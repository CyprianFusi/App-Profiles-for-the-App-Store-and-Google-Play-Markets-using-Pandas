{
 "cells": [
  {
   "cell_type": "markdown",
   "metadata": {},
   "source": [
    "## Profitable App Profiles for the App Store and Google Play Markets\n",
    "\n",
    "Our client builds Android and iOS mobile apps and makes our them available on Google Play and in the App Store.\n",
    "\n",
    "They only build apps that are **free to download and install**, and their main source of revenue consists of **in-app ads**. This means that the number of users of their apps determines their revenue for any given app — the more users who see and engage with the ads, the better. \n",
    "\n",
    "**Our goal for this project is to analyze data to help our client understand what type of apps are likely to attract more users**.\n",
    "\n",
    "### Data\n",
    "As of **September 2018**, there were approximately **2 million iOS apps** available on the App Store, and **2.1 million Android apps** on Google Play. In this project we'll be using samples of these data:\n",
    "\n",
    "* A Kaggle [dataset](https://www.kaggle.com/lava18/google-play-store-apps) containing data about approximately **`10,000` Android apps from Google Play** which was collected in August 2018. You can also download the dataset directly from [amazon aws](https://dq-content.s3.amazonaws.com/350/googleplaystore.csv).\n",
    "\n",
    "* A Kaggle [dataset](https://www.kaggle.com/ramamet4/app-store-apple-data-set-10k-apps) containing data about approximately **`7,000` iOS apps from the App Store** which was collected in July 2017. You can download the data set directly from [amazon aws](https://dq-content.s3.amazonaws.com/350/AppleStore.csv).\n",
    "\n",
    "### Opening and Exploring the Data\n",
    "#### Helper Function to load dataset "
   ]
  },
  {
   "cell_type": "code",
   "execution_count": 1,
   "metadata": {},
   "outputs": [],
   "source": [
    "def open_dataset(file_name):\n",
    "    '''\n",
    "    Parameter\n",
    "    file_name: file name to open\n",
    "    returns the opened data as list of list\n",
    "    '''\n",
    "    from csv import reader\n",
    "    \n",
    "    opened_file = open(file_name, encoding = 'UTF-8')\n",
    "    read_file = reader(opened_file)\n",
    "    data = list(read_file)\n",
    "    return data"
   ]
  },
  {
   "cell_type": "markdown",
   "metadata": {},
   "source": [
    "#### Helper Function to explore dataset"
   ]
  },
  {
   "cell_type": "code",
   "execution_count": 2,
   "metadata": {},
   "outputs": [],
   "source": [
    "def explore_data(dataset, start, end, has_header = False):\n",
    "    '''\n",
    "    Parameters:\n",
    "    dataset: which will be a list of lists\n",
    "    start: integer, the start index to slice\n",
    "    end: integer, the end index to slice\n",
    "    has_header: Boolean, indicates if dataset has a header row\n",
    "    '''\n",
    "    dataset_slice = dataset[start:end]    \n",
    "    for row in dataset_slice:\n",
    "        print(f'{row}\\n')\n",
    "\n",
    "    if has_header:\n",
    "        print(f'Number of rows (data): {len(dataset[1:])}')\n",
    "        print(f'Number of columns: {len(dataset[0])}')"
   ]
  },
  {
   "cell_type": "markdown",
   "metadata": {},
   "source": [
    "#### Load the datasets"
   ]
  },
  {
   "cell_type": "code",
   "execution_count": 3,
   "metadata": {},
   "outputs": [],
   "source": [
    "app_store = open_dataset('./data/AppleStore.csv')"
   ]
  },
  {
   "cell_type": "code",
   "execution_count": 4,
   "metadata": {},
   "outputs": [
    {
     "name": "stdout",
     "output_type": "stream",
     "text": [
      "['id', 'track_name', 'size_bytes', 'currency', 'price', 'rating_count_tot', 'rating_count_ver', 'user_rating', 'user_rating_ver', 'ver', 'cont_rating', 'prime_genre', 'sup_devices.num', 'ipadSc_urls.num', 'lang.num', 'vpp_lic']\n",
      "\n",
      "['284882215', 'Facebook', '389879808', 'USD', '0.0', '2974676', '212', '3.5', '3.5', '95.0', '4+', 'Social Networking', '37', '1', '29', '1']\n",
      "\n",
      "['389801252', 'Instagram', '113954816', 'USD', '0.0', '2161558', '1289', '4.5', '4.0', '10.23', '12+', 'Photo & Video', '37', '0', '29', '1']\n",
      "\n",
      "['529479190', 'Clash of Clans', '116476928', 'USD', '0.0', '2130805', '579', '4.5', '4.5', '9.24.12', '9+', 'Games', '38', '5', '18', '1']\n",
      "\n",
      "['420009108', 'Temple Run', '65921024', 'USD', '0.0', '1724546', '3842', '4.5', '4.0', '1.6.2', '9+', 'Games', '40', '5', '1', '1']\n",
      "\n",
      "Number of rows (data): 7197\n",
      "Number of columns: 16\n"
     ]
    }
   ],
   "source": [
    "explore_data(app_store, 0, 5, has_header = True)"
   ]
  },
  {
   "cell_type": "code",
   "execution_count": 5,
   "metadata": {},
   "outputs": [],
   "source": [
    "google_play = open_dataset('./data/googleplaystore.csv')"
   ]
  },
  {
   "cell_type": "code",
   "execution_count": 6,
   "metadata": {},
   "outputs": [
    {
     "name": "stdout",
     "output_type": "stream",
     "text": [
      "['App', 'Category', 'Rating', 'Reviews', 'Size', 'Installs', 'Type', 'Price', 'Content Rating', 'Genres', 'Last Updated', 'Current Ver', 'Android Ver']\n",
      "\n",
      "['Photo Editor & Candy Camera & Grid & ScrapBook', 'ART_AND_DESIGN', '4.1', '159', '19M', '10,000+', 'Free', '0', 'Everyone', 'Art & Design', 'January 7, 2018', '1.0.0', '4.0.3 and up']\n",
      "\n",
      "['Coloring book moana', 'ART_AND_DESIGN', '3.9', '967', '14M', '500,000+', 'Free', '0', 'Everyone', 'Art & Design;Pretend Play', 'January 15, 2018', '2.0.0', '4.0.3 and up']\n",
      "\n",
      "['U Launcher Lite – FREE Live Cool Themes, Hide Apps', 'ART_AND_DESIGN', '4.7', '87510', '8.7M', '5,000,000+', 'Free', '0', 'Everyone', 'Art & Design', 'August 1, 2018', '1.2.4', '4.0.3 and up']\n",
      "\n",
      "['Sketch - Draw & Paint', 'ART_AND_DESIGN', '4.5', '215644', '25M', '50,000,000+', 'Free', '0', 'Teen', 'Art & Design', 'June 8, 2018', 'Varies with device', '4.2 and up']\n",
      "\n",
      "Number of rows (data): 10841\n",
      "Number of columns: 13\n"
     ]
    }
   ],
   "source": [
    "explore_data(google_play, 0, 5, has_header = True)"
   ]
  },
  {
   "cell_type": "markdown",
   "metadata": {},
   "source": [
    "### Deleting Wrong Data\n",
    "We need to do the following:\n",
    "\n",
    "* Detect **inaccurate data**, and correct or remove it.\n",
    "* Detect **duplicate data**, and remove the duplicates.\n",
    "\n",
    "The Google Play dataset has a dedicated [discussion section](https://www.kaggle.com/lava18/google-play-store-apps/discussion), and we can see that [one of the discussions](https://www.kaggle.com/lava18/google-play-store-apps/discussion/66015) describes an error for a certain row."
   ]
  },
  {
   "cell_type": "code",
   "execution_count": 7,
   "metadata": {},
   "outputs": [
    {
     "name": "stdout",
     "output_type": "stream",
     "text": [
      "['Jazz Wi-Fi', 'COMMUNICATION', '3.4', '49', '4.0M', '10,000+', 'Free', '0', 'Everyone', 'Communication', 'February 10, 2017', '0.1', '2.3 and up']\n",
      "\n",
      "\n",
      "['Xposed Wi-Fi-Pwd', 'PERSONALIZATION', '3.5', '1042', '404k', '100,000+', 'Free', '0', 'Everyone', 'Personalization', 'August 5, 2014', '3.0.0', '4.0.3 and up']\n",
      "\n",
      "\n",
      "['Life Made WI-Fi Touchscreen Photo Frame', '1.9', '19', '3.0M', '1,000+', 'Free', '0', 'Everyone', '', 'February 11, 2018', '1.0.19', '4.0 and up']\n"
     ]
    }
   ],
   "source": [
    "wrong_entry_idx = 10472\n",
    "print(google_play[wrong_entry_idx - 1])\n",
    "print('\\n')\n",
    "print(google_play[wrong_entry_idx])\n",
    "print('\\n')\n",
    "print(google_play[wrong_entry_idx + 1])"
   ]
  },
  {
   "cell_type": "code",
   "execution_count": 8,
   "metadata": {},
   "outputs": [
    {
     "name": "stdout",
     "output_type": "stream",
     "text": [
      "13\n",
      "13\n",
      "12\n"
     ]
    }
   ],
   "source": [
    "wrong_entry_idx = 10472\n",
    "print(len(google_play[wrong_entry_idx - 1]))\n",
    "print(len(google_play[wrong_entry_idx]))\n",
    "print(len(google_play[wrong_entry_idx + 1]))"
   ]
  },
  {
   "cell_type": "markdown",
   "metadata": {},
   "source": [
    "**The row at index 10473 is of length 12. That is `google_play[10473]`has a missing entry.**\n",
    "\n",
    "### Find and delete all row with missing entry\n",
    "#### Google Play"
   ]
  },
  {
   "cell_type": "code",
   "execution_count": 9,
   "metadata": {},
   "outputs": [
    {
     "name": "stdout",
     "output_type": "stream",
     "text": [
      "10473\n"
     ]
    }
   ],
   "source": [
    "for row in google_play:\n",
    "    if len(row) != len(google_play[0]):\n",
    "        print(google_play.index(row))"
   ]
  },
  {
   "cell_type": "code",
   "execution_count": 10,
   "metadata": {},
   "outputs": [],
   "source": [
    "del google_play[10473]\n",
    "\n",
    "for row in google_play:\n",
    "    if len(row) != len(google_play[0]):\n",
    "        print(google_play.index(row))"
   ]
  },
  {
   "cell_type": "markdown",
   "metadata": {},
   "source": [
    "### App Store"
   ]
  },
  {
   "cell_type": "code",
   "execution_count": 11,
   "metadata": {},
   "outputs": [],
   "source": [
    "for row in app_store:\n",
    "    if len(row) != len(app_store[0]):\n",
    "        del app_store[app_store.index(row)]"
   ]
  },
  {
   "cell_type": "code",
   "execution_count": 12,
   "metadata": {},
   "outputs": [
    {
     "name": "stdout",
     "output_type": "stream",
     "text": [
      "Number of data rows (google_play): 10840\n",
      "Number of data rows (app_store): 7197\n"
     ]
    }
   ],
   "source": [
    "print(f'Number of data rows (google_play): {len(google_play[1:])}')\n",
    "print(f'Number of data rows (app_store): {len(app_store[1:])}')"
   ]
  },
  {
   "cell_type": "markdown",
   "metadata": {},
   "source": [
    "### Checking for Duplicate Entries\n",
    "#### Google Store"
   ]
  },
  {
   "cell_type": "code",
   "execution_count": 13,
   "metadata": {},
   "outputs": [
    {
     "name": "stdout",
     "output_type": "stream",
     "text": [
      "Number of unique apps: 9660\n",
      "Number of duplicate apps: 1181\n",
      "\n",
      "Example of duplicate apps:\n",
      "['Quick PDF Scanner + OCR FREE', 'Box', 'Google My Business', 'ZOOM Cloud Meetings', 'join.me - Simple Meetings', 'Box', 'Zenefits', 'Google Ads', 'Google My Business', 'Slack', 'FreshBooks Classic', 'Insightly CRM', 'QuickBooks Accounting: Invoicing & Expenses', 'HipChat - Chat Built for Teams', 'Xero Accounting Software']\n"
     ]
    }
   ],
   "source": [
    "duplicate_names = []\n",
    "unique_names_google = []\n",
    "\n",
    "for app in google_play:\n",
    "    name = app[0]\n",
    "    if name in unique_names_google:\n",
    "        duplicate_names.append(name)\n",
    "    else:\n",
    "        unique_names_google.append(name)\n",
    "\n",
    "print(f'Number of unique apps: {len(unique_names_google)}')\n",
    "print(f'Number of duplicate apps: {len(duplicate_names)}\\n')\n",
    "print(f'Example of duplicate apps:\\n{duplicate_names[:15]}')"
   ]
  },
  {
   "cell_type": "code",
   "execution_count": 14,
   "metadata": {},
   "outputs": [
    {
     "name": "stdout",
     "output_type": "stream",
     "text": [
      "['Instagram', 'SOCIAL', '4.5', '66577313', 'Varies with device', '1,000,000,000+', 'Free', '0', 'Teen', 'Social', 'July 31, 2018', 'Varies with device', 'Varies with device']\n",
      "['Instagram', 'SOCIAL', '4.5', '66577446', 'Varies with device', '1,000,000,000+', 'Free', '0', 'Teen', 'Social', 'July 31, 2018', 'Varies with device', 'Varies with device']\n",
      "['Instagram', 'SOCIAL', '4.5', '66577313', 'Varies with device', '1,000,000,000+', 'Free', '0', 'Teen', 'Social', 'July 31, 2018', 'Varies with device', 'Varies with device']\n",
      "['Instagram', 'SOCIAL', '4.5', '66509917', 'Varies with device', '1,000,000,000+', 'Free', '0', 'Teen', 'Social', 'July 31, 2018', 'Varies with device', 'Varies with device']\n"
     ]
    }
   ],
   "source": [
    "for app in google_play:\n",
    "    name = app[0]\n",
    "    if name == 'Instagram':\n",
    "        print(app)"
   ]
  },
  {
   "cell_type": "markdown",
   "metadata": {},
   "source": [
    "#### The Approach...\n",
    "Looking at the Instagram app, the main difference is on the fourth position (index 3) of each row, which corresponds to the number of reviews. The different numbers indicate the data was collected at different times. We'll only **keep the most recent row with the highest number of reviews** and remove the other entries for any given app.\n",
    "\n",
    "### App Store"
   ]
  },
  {
   "cell_type": "code",
   "execution_count": 15,
   "metadata": {},
   "outputs": [
    {
     "name": "stdout",
     "output_type": "stream",
     "text": [
      "Number of unique apps: 7198\n",
      "Number of duplicate apps: 0\n",
      "\n",
      "Example of duplicate apps:\n",
      "[]\n"
     ]
    }
   ],
   "source": [
    "duplicate_names = []\n",
    "unique_names_apple = []\n",
    "\n",
    "for app in app_store:\n",
    "    name = app[0]\n",
    "    if name in unique_names_apple:\n",
    "        duplicate_names.append(name)\n",
    "    else:\n",
    "        unique_names_apple.append(name)\n",
    "        \n",
    "print(f'Number of unique apps: {len(unique_names_apple)}')\n",
    "print(f'Number of duplicate apps: {len(duplicate_names)}\\n')\n",
    "print(f'Example of duplicate apps:\\n{duplicate_names[:15]}')"
   ]
  },
  {
   "cell_type": "markdown",
   "metadata": {},
   "source": [
    "### Removing Duplicate Entries\n",
    "To remove the duplicates, we will do the following:\n",
    "\n",
    "* Create a dictionary, where each dictionary key is a unique app name and the corresponding dictionary value is the highest number of reviews of that app.\n",
    "\n",
    "* Use the information stored in the dictionary and create a new dataset, which will have only one entry per app (and for each app, we'll only select the entry with the highest number of reviews)."
   ]
  },
  {
   "cell_type": "code",
   "execution_count": 16,
   "metadata": {},
   "outputs": [
    {
     "name": "stdout",
     "output_type": "stream",
     "text": [
      "9659\n"
     ]
    }
   ],
   "source": [
    "reviews_max = {}\n",
    "for app in google_play[1:]:\n",
    "    name = app[0]\n",
    "    n_reviews = float(app[3])\n",
    "    if name in reviews_max and reviews_max[name] < n_reviews:\n",
    "        reviews_max[name] = n_reviews\n",
    "    elif name not in reviews_max:\n",
    "        reviews_max[name] = n_reviews\n",
    "        \n",
    "print(len(reviews_max))        "
   ]
  },
  {
   "cell_type": "markdown",
   "metadata": {},
   "source": [
    "### Using the dictionary created above to remove the duplicate rows"
   ]
  },
  {
   "cell_type": "code",
   "execution_count": 17,
   "metadata": {},
   "outputs": [
    {
     "name": "stdout",
     "output_type": "stream",
     "text": [
      "9659\n"
     ]
    }
   ],
   "source": [
    "google_clean = []   # list of list without duplicate\n",
    "already_added = []\n",
    "\n",
    "for app in google_play[1:]:\n",
    "    name = app[0]\n",
    "    n_reviews = float(app[3])\n",
    "    if n_reviews == reviews_max[name] and name not in already_added:\n",
    "        google_clean.append(app)\n",
    "        already_added.append(name)\n",
    "\n",
    "print(len(google_clean))"
   ]
  },
  {
   "cell_type": "markdown",
   "metadata": {},
   "source": [
    "### Checking for Non-English Apps\n",
    "The client usea English for the apps they develop at their company, and we'd like to analyze only the apps that are designed for an English-speaking audience. The **codes** corresponding to the characters commonly use in an English text are in the range **0 to 127**, according to the ASCII (American Standard Code for Information Interchange) system. If an app name contains a character that is **greater than 127**, then it probably means that the app has a non-English name.\n",
    "\n",
    "#### Helper function to check for ASCII codes for English Languarge characters"
   ]
  },
  {
   "cell_type": "code",
   "execution_count": 18,
   "metadata": {},
   "outputs": [],
   "source": [
    "def check_english_ascii(name):\n",
    "    eng_codes = list(range(128))\n",
    "    conditions = [(ord(char) in eng_codes) for char in name]\n",
    "    return all(conditions)"
   ]
  },
  {
   "cell_type": "code",
   "execution_count": 19,
   "metadata": {},
   "outputs": [
    {
     "name": "stdout",
     "output_type": "stream",
     "text": [
      "True\n",
      "False\n",
      "False\n",
      "False\n"
     ]
    }
   ],
   "source": [
    "print(check_english_ascii('Instagram'))\n",
    "print(check_english_ascii('爱奇艺PPS -《欢乐颂2》电视剧热播'))\n",
    "print(check_english_ascii('Docs To Go™ Free Office Suite'))\n",
    "print(check_english_ascii('Instachat 😜'))"
   ]
  },
  {
   "cell_type": "markdown",
   "metadata": {},
   "source": [
    "### Removing Non-English Apps\n",
    "If we're going to use the function we've created, we'll lose useful data since many English apps (like `'Docs To Go™ Free Office Suite'` or `'Instachat 😜'`) will be incorrectly labeled as non-English. To minimize the impact of data loss, we'll only remove an app **if its name has more than three characters** with corresponding numbers falling outside the ASCII range. "
   ]
  },
  {
   "cell_type": "code",
   "execution_count": 20,
   "metadata": {},
   "outputs": [],
   "source": [
    "def check_three_non_ascii(name):\n",
    "    eng_codes = list(range(128))\n",
    "    conditions = [(ord(char) not in eng_codes) for char in name]\n",
    "    if sum(conditions) > 3:\n",
    "        return True\n",
    "    return False"
   ]
  },
  {
   "cell_type": "code",
   "execution_count": 21,
   "metadata": {},
   "outputs": [
    {
     "name": "stdout",
     "output_type": "stream",
     "text": [
      "True\n",
      "False\n",
      "False\n"
     ]
    }
   ],
   "source": [
    "print(check_three_non_ascii('爱奇艺PPS -《欢乐颂2》电视剧热播'))\n",
    "print(check_three_non_ascii('Docs To Go™ Free Office Suite'))\n",
    "print(check_three_non_ascii('Instachat 😜'))"
   ]
  },
  {
   "cell_type": "markdown",
   "metadata": {},
   "source": [
    "### Filter out non-English apps from both datasets\n",
    "#### Google Play"
   ]
  },
  {
   "cell_type": "code",
   "execution_count": 22,
   "metadata": {},
   "outputs": [
    {
     "name": "stdout",
     "output_type": "stream",
     "text": [
      "Number of rows (unfiltered): 9659\n",
      "Number of rows (filtered): 9614\n",
      "Number of non ascii row: 45\n"
     ]
    }
   ],
   "source": [
    "print(f'Number of rows (unfiltered): {len(google_clean)}')\n",
    "\n",
    "google_filtered = []\n",
    "google_non_ascii = []\n",
    "for app in google_clean:\n",
    "    name = app[0]\n",
    "    if check_three_non_ascii(name):\n",
    "        google_non_ascii.append(app)\n",
    "    else:\n",
    "        google_filtered.append(app)\n",
    "        \n",
    "        \n",
    "print(f'Number of rows (filtered): {len(google_filtered)}')\n",
    "print(f'Number of non ascii row: {len(google_non_ascii)}')"
   ]
  },
  {
   "cell_type": "markdown",
   "metadata": {},
   "source": [
    "#### Apply Store"
   ]
  },
  {
   "cell_type": "code",
   "execution_count": 23,
   "metadata": {},
   "outputs": [
    {
     "name": "stdout",
     "output_type": "stream",
     "text": [
      "Number of rows (unfiltered): 7197\n",
      "Number of rows (filtered): 7197\n",
      "Number of non ascii row: 0\n"
     ]
    }
   ],
   "source": [
    "print(f'Number of rows (unfiltered): {len(app_store[1:])}')\n",
    "\n",
    "apple_filtered = []\n",
    "apple_non_ascii = []\n",
    "for app in app_store[1:]:\n",
    "    name = app[0]\n",
    "    if check_three_non_ascii(name):\n",
    "        apple_non_ascii.append(app)\n",
    "    else:\n",
    "        apple_filtered.append(app)\n",
    "        \n",
    "print(f'Number of rows (filtered): {len(apple_filtered)}')\n",
    "print(f'Number of non ascii row: {len(apple_non_ascii)}')"
   ]
  },
  {
   "cell_type": "markdown",
   "metadata": {},
   "source": [
    "#### Examples of apps with non-english names"
   ]
  },
  {
   "cell_type": "code",
   "execution_count": 24,
   "metadata": {},
   "outputs": [
    {
     "name": "stdout",
     "output_type": "stream",
     "text": [
      "[['Flame - درب عقلك يوميا', 'EDUCATION', '4.6', '56065', '37M', '1,000,000+', 'Free', '0', 'Everyone', 'Education', 'July 26, 2018', '3.3', '4.1 and up'], ['သိင်္ Astrology - Min Thein Kha BayDin', 'LIFESTYLE', '4.7', '2225', '15M', '100,000+', 'Free', '0', 'Everyone', 'Lifestyle', 'July 26, 2018', '4.2.1', '4.0.3 and up'], ['РИА Новости', 'NEWS_AND_MAGAZINES', '4.5', '44274', '8.0M', '1,000,000+', 'Free', '0', 'Everyone', 'News & Magazines', 'August 6, 2018', '4.0.6', '4.4 and up']]\n"
     ]
    }
   ],
   "source": [
    "print(google_non_ascii[:3])"
   ]
  },
  {
   "cell_type": "markdown",
   "metadata": {},
   "source": [
    "### Isolating the Free Apps\n",
    "Our client only builds apps that are free to download and install. Our datasets contain both free and non-free apps; we'll need to isolate only the free apps for our analysis.\n",
    "\n",
    "#### Helper function to clean price"
   ]
  },
  {
   "cell_type": "code",
   "execution_count": 25,
   "metadata": {},
   "outputs": [],
   "source": [
    "def clean_price(price):\n",
    "    if '$' in price:\n",
    "        price = float(price[1:])\n",
    "    else:\n",
    "        price = float(price)\n",
    "    return price"
   ]
  },
  {
   "cell_type": "code",
   "execution_count": 26,
   "metadata": {},
   "outputs": [
    {
     "name": "stdout",
     "output_type": "stream",
     "text": [
      "0.99\n"
     ]
    }
   ],
   "source": [
    "print(clean_price('$0.99'))"
   ]
  },
  {
   "cell_type": "markdown",
   "metadata": {},
   "source": [
    "#### Google Play"
   ]
  },
  {
   "cell_type": "code",
   "execution_count": 27,
   "metadata": {},
   "outputs": [
    {
     "name": "stdout",
     "output_type": "stream",
     "text": [
      "Number of rows (price unclean): 9614\n",
      "Number of rows (free apps): 8864\n",
      "Number of rows (not free apps): 750\n"
     ]
    }
   ],
   "source": [
    "print(f'Number of rows (price unclean): {len(google_filtered)}')\n",
    "\n",
    "google_free = []\n",
    "google_not_free = []\n",
    "for app in google_filtered:\n",
    "    price = clean_price(app[7])\n",
    "    if price > 0.0:\n",
    "        google_not_free.append(app)\n",
    "    else:\n",
    "        google_free.append(app)\n",
    "        \n",
    "        \n",
    "print(f'Number of rows (free apps): {len(google_free)}')\n",
    "print(f'Number of rows (not free apps): {len(google_not_free)}')"
   ]
  },
  {
   "cell_type": "markdown",
   "metadata": {},
   "source": [
    "#### App Store"
   ]
  },
  {
   "cell_type": "code",
   "execution_count": 28,
   "metadata": {},
   "outputs": [
    {
     "name": "stdout",
     "output_type": "stream",
     "text": [
      "Number of rows (price unclean): 7197\n",
      "Number of rows (free apps): 4056\n",
      "Number of rows (not free apps): 3141\n"
     ]
    }
   ],
   "source": [
    "print(f'Number of rows (price unclean): {len(apple_filtered)}')\n",
    "\n",
    "apple_free = []\n",
    "apple_not_free = []\n",
    "for app in apple_filtered:\n",
    "    price = clean_price(app[4])\n",
    "    if price > 0.0:\n",
    "        apple_not_free.append(app)\n",
    "    else:\n",
    "        apple_free.append(app)\n",
    "        \n",
    "        \n",
    "print(f'Number of rows (free apps): {len(apple_free)}')\n",
    "print(f'Number of rows (not free apps): {len(apple_not_free)}')"
   ]
  },
  {
   "cell_type": "markdown",
   "metadata": {},
   "source": [
    "## Most Common Apps by Genre: Part One"
   ]
  },
  {
   "cell_type": "code",
   "execution_count": 29,
   "metadata": {},
   "outputs": [
    {
     "name": "stdout",
     "output_type": "stream",
     "text": [
      "['App', 'Category', 'Rating', 'Reviews', 'Size', 'Installs', 'Type', 'Price', 'Content Rating', 'Genres', 'Last Updated', 'Current Ver', 'Android Ver']\n"
     ]
    }
   ],
   "source": [
    "print(google_play[0])"
   ]
  },
  {
   "cell_type": "code",
   "execution_count": 30,
   "metadata": {},
   "outputs": [
    {
     "name": "stdout",
     "output_type": "stream",
     "text": [
      "['id', 'track_name', 'size_bytes', 'currency', 'price', 'rating_count_tot', 'rating_count_ver', 'user_rating', 'user_rating_ver', 'ver', 'cont_rating', 'prime_genre', 'sup_devices.num', 'ipadSc_urls.num', 'lang.num', 'vpp_lic']\n"
     ]
    }
   ],
   "source": [
    "print(app_store[0])"
   ]
  },
  {
   "cell_type": "markdown",
   "metadata": {},
   "source": [
    "## Most Common Apps by Genre: Part Two\n",
    "We'll need to build a frequency table for the **prime_genre** column of the **App Store** data set, and for the **Genres** and **Category** columns of the **Google Play** data set.\n",
    "\n",
    "#### Helper function to generate frequency table"
   ]
  },
  {
   "cell_type": "code",
   "execution_count": 31,
   "metadata": {},
   "outputs": [],
   "source": [
    "def freq_table(data, idx):\n",
    "    table = {}\n",
    "    for row in data:\n",
    "        cat = row[idx]\n",
    "        if cat in table:\n",
    "            table[cat] += 1\n",
    "        else:\n",
    "            table[cat] = 1\n",
    "    table = {key: (value*100/len(data)) for key, value in table.items()}\n",
    "    return table"
   ]
  },
  {
   "cell_type": "code",
   "execution_count": 32,
   "metadata": {},
   "outputs": [],
   "source": [
    "def display_table(dataset, index):\n",
    "    table = freq_table(dataset, index)\n",
    "    table_display = []\n",
    "    for key in table:\n",
    "        key_val_as_tuple = (table[key], key)\n",
    "        table_display.append(key_val_as_tuple)\n",
    "\n",
    "    table_sorted = sorted(table_display, reverse = True)\n",
    "    for entry in table_sorted:\n",
    "        print(entry[1], ':', entry[0])"
   ]
  },
  {
   "cell_type": "markdown",
   "metadata": {},
   "source": [
    "### Frequency Table `Category` column (Google Play)"
   ]
  },
  {
   "cell_type": "code",
   "execution_count": 33,
   "metadata": {},
   "outputs": [],
   "source": [
    "table_google_cat = freq_table(google_free, 1)\n",
    "#print(table_google_cat)"
   ]
  },
  {
   "cell_type": "code",
   "execution_count": 34,
   "metadata": {},
   "outputs": [
    {
     "name": "stdout",
     "output_type": "stream",
     "text": [
      "FAMILY : 18.907942238267147\n",
      "GAME : 9.724729241877256\n",
      "TOOLS : 8.461191335740072\n",
      "BUSINESS : 4.591606498194946\n",
      "LIFESTYLE : 3.9034296028880866\n",
      "PRODUCTIVITY : 3.892148014440433\n",
      "FINANCE : 3.700361010830325\n",
      "MEDICAL : 3.5311371841155235\n",
      "SPORTS : 3.395758122743682\n",
      "PERSONALIZATION : 3.3167870036101084\n",
      "COMMUNICATION : 3.237815884476534\n",
      "HEALTH_AND_FITNESS : 3.079873646209386\n",
      "PHOTOGRAPHY : 2.9444945848375452\n",
      "NEWS_AND_MAGAZINES : 2.7978339350180503\n",
      "SOCIAL : 2.6624548736462095\n",
      "TRAVEL_AND_LOCAL : 2.33528880866426\n",
      "SHOPPING : 2.2450361010830324\n",
      "BOOKS_AND_REFERENCE : 2.1435018050541514\n",
      "DATING : 1.861462093862816\n",
      "VIDEO_PLAYERS : 1.7937725631768953\n",
      "MAPS_AND_NAVIGATION : 1.3989169675090252\n",
      "FOOD_AND_DRINK : 1.2409747292418774\n",
      "EDUCATION : 1.1620036101083033\n",
      "ENTERTAINMENT : 0.9589350180505415\n",
      "LIBRARIES_AND_DEMO : 0.9363718411552346\n",
      "AUTO_AND_VEHICLES : 0.9250902527075813\n",
      "HOUSE_AND_HOME : 0.8235559566787004\n",
      "WEATHER : 0.8009927797833934\n",
      "EVENTS : 0.7107400722021661\n",
      "PARENTING : 0.6543321299638989\n",
      "ART_AND_DESIGN : 0.6430505415162455\n",
      "COMICS : 0.6204873646209387\n",
      "BEAUTY : 0.5979241877256317\n"
     ]
    }
   ],
   "source": [
    "display_table(google_free, 1)"
   ]
  },
  {
   "cell_type": "markdown",
   "metadata": {},
   "source": [
    "### Frequency Table `Genres` column (Google Play)"
   ]
  },
  {
   "cell_type": "code",
   "execution_count": 35,
   "metadata": {},
   "outputs": [],
   "source": [
    "table_google_genre = freq_table(google_free, 9)\n",
    "#print(table_google_genre)"
   ]
  },
  {
   "cell_type": "code",
   "execution_count": 36,
   "metadata": {},
   "outputs": [
    {
     "name": "stdout",
     "output_type": "stream",
     "text": [
      "Tools : 8.449909747292418\n",
      "Entertainment : 6.069494584837545\n",
      "Education : 5.347472924187725\n",
      "Business : 4.591606498194946\n",
      "Productivity : 3.892148014440433\n",
      "Lifestyle : 3.892148014440433\n",
      "Finance : 3.700361010830325\n",
      "Medical : 3.5311371841155235\n",
      "Sports : 3.463447653429603\n",
      "Personalization : 3.3167870036101084\n",
      "Communication : 3.237815884476534\n",
      "Action : 3.1024368231046933\n",
      "Health & Fitness : 3.079873646209386\n",
      "Photography : 2.9444945848375452\n",
      "News & Magazines : 2.7978339350180503\n",
      "Social : 2.6624548736462095\n",
      "Travel & Local : 2.3240072202166067\n",
      "Shopping : 2.2450361010830324\n",
      "Books & Reference : 2.1435018050541514\n",
      "Simulation : 2.041967509025271\n",
      "Dating : 1.861462093862816\n",
      "Arcade : 1.8501805054151625\n",
      "Video Players & Editors : 1.7712093862815885\n",
      "Casual : 1.759927797833935\n",
      "Maps & Navigation : 1.3989169675090252\n",
      "Food & Drink : 1.2409747292418774\n",
      "Puzzle : 1.128158844765343\n",
      "Racing : 0.9927797833935018\n",
      "Role Playing : 0.9363718411552346\n",
      "Libraries & Demo : 0.9363718411552346\n",
      "Auto & Vehicles : 0.9250902527075813\n",
      "Strategy : 0.9138086642599278\n",
      "House & Home : 0.8235559566787004\n",
      "Weather : 0.8009927797833934\n",
      "Events : 0.7107400722021661\n",
      "Adventure : 0.6768953068592057\n",
      "Comics : 0.6092057761732852\n",
      "Beauty : 0.5979241877256317\n",
      "Art & Design : 0.5979241877256317\n",
      "Parenting : 0.4963898916967509\n",
      "Card : 0.45126353790613716\n",
      "Casino : 0.4287003610108303\n",
      "Trivia : 0.4174187725631769\n",
      "Educational;Education : 0.39485559566787004\n",
      "Board : 0.3835740072202166\n",
      "Educational : 0.3722924187725632\n",
      "Education;Education : 0.33844765342960287\n",
      "Word : 0.2594765342960289\n",
      "Casual;Pretend Play : 0.23691335740072203\n",
      "Music : 0.20306859205776173\n",
      "Racing;Action & Adventure : 0.16922382671480143\n",
      "Puzzle;Brain Games : 0.16922382671480143\n",
      "Entertainment;Music & Video : 0.16922382671480143\n",
      "Casual;Brain Games : 0.13537906137184116\n",
      "Casual;Action & Adventure : 0.13537906137184116\n",
      "Arcade;Action & Adventure : 0.12409747292418773\n",
      "Action;Action & Adventure : 0.10153429602888087\n",
      "Educational;Pretend Play : 0.09025270758122744\n",
      "Simulation;Action & Adventure : 0.078971119133574\n",
      "Parenting;Education : 0.078971119133574\n",
      "Entertainment;Brain Games : 0.078971119133574\n",
      "Board;Brain Games : 0.078971119133574\n",
      "Parenting;Music & Video : 0.06768953068592058\n",
      "Educational;Brain Games : 0.06768953068592058\n",
      "Casual;Creativity : 0.06768953068592058\n",
      "Art & Design;Creativity : 0.06768953068592058\n",
      "Education;Pretend Play : 0.056407942238267145\n",
      "Role Playing;Pretend Play : 0.04512635379061372\n",
      "Education;Creativity : 0.04512635379061372\n",
      "Role Playing;Action & Adventure : 0.03384476534296029\n",
      "Puzzle;Action & Adventure : 0.03384476534296029\n",
      "Entertainment;Creativity : 0.03384476534296029\n",
      "Entertainment;Action & Adventure : 0.03384476534296029\n",
      "Educational;Creativity : 0.03384476534296029\n",
      "Educational;Action & Adventure : 0.03384476534296029\n",
      "Education;Music & Video : 0.03384476534296029\n",
      "Education;Brain Games : 0.03384476534296029\n",
      "Education;Action & Adventure : 0.03384476534296029\n",
      "Adventure;Action & Adventure : 0.03384476534296029\n",
      "Video Players & Editors;Music & Video : 0.02256317689530686\n",
      "Sports;Action & Adventure : 0.02256317689530686\n",
      "Simulation;Pretend Play : 0.02256317689530686\n",
      "Puzzle;Creativity : 0.02256317689530686\n",
      "Music;Music & Video : 0.02256317689530686\n",
      "Entertainment;Pretend Play : 0.02256317689530686\n",
      "Casual;Education : 0.02256317689530686\n",
      "Board;Action & Adventure : 0.02256317689530686\n",
      "Video Players & Editors;Creativity : 0.01128158844765343\n",
      "Trivia;Education : 0.01128158844765343\n",
      "Travel & Local;Action & Adventure : 0.01128158844765343\n",
      "Tools;Education : 0.01128158844765343\n",
      "Strategy;Education : 0.01128158844765343\n",
      "Strategy;Creativity : 0.01128158844765343\n",
      "Strategy;Action & Adventure : 0.01128158844765343\n",
      "Simulation;Education : 0.01128158844765343\n",
      "Role Playing;Brain Games : 0.01128158844765343\n",
      "Racing;Pretend Play : 0.01128158844765343\n",
      "Puzzle;Education : 0.01128158844765343\n",
      "Parenting;Brain Games : 0.01128158844765343\n",
      "Music & Audio;Music & Video : 0.01128158844765343\n",
      "Lifestyle;Pretend Play : 0.01128158844765343\n",
      "Lifestyle;Education : 0.01128158844765343\n",
      "Health & Fitness;Education : 0.01128158844765343\n",
      "Health & Fitness;Action & Adventure : 0.01128158844765343\n",
      "Entertainment;Education : 0.01128158844765343\n",
      "Communication;Creativity : 0.01128158844765343\n",
      "Comics;Creativity : 0.01128158844765343\n",
      "Casual;Music & Video : 0.01128158844765343\n",
      "Card;Action & Adventure : 0.01128158844765343\n",
      "Books & Reference;Education : 0.01128158844765343\n",
      "Art & Design;Pretend Play : 0.01128158844765343\n",
      "Art & Design;Action & Adventure : 0.01128158844765343\n",
      "Arcade;Pretend Play : 0.01128158844765343\n",
      "Adventure;Education : 0.01128158844765343\n"
     ]
    }
   ],
   "source": [
    "display_table(google_free, 9)"
   ]
  },
  {
   "cell_type": "markdown",
   "metadata": {},
   "source": [
    "### Frequency Table `'prime_genre'` column (App Store)"
   ]
  },
  {
   "cell_type": "code",
   "execution_count": 37,
   "metadata": {},
   "outputs": [],
   "source": [
    "table_apple_prime_genre = freq_table(apple_free, 11)\n",
    "#print(table_apple_prime_genre)"
   ]
  },
  {
   "cell_type": "code",
   "execution_count": 38,
   "metadata": {},
   "outputs": [
    {
     "name": "stdout",
     "output_type": "stream",
     "text": [
      "Games : 55.645956607495066\n",
      "Entertainment : 8.234714003944774\n",
      "Photo & Video : 4.117357001972387\n",
      "Social Networking : 3.5256410256410255\n",
      "Education : 3.2544378698224854\n",
      "Shopping : 2.983234714003945\n",
      "Utilities : 2.687376725838264\n",
      "Lifestyle : 2.3175542406311638\n",
      "Finance : 2.0710059171597632\n",
      "Sports : 1.9477317554240632\n",
      "Health & Fitness : 1.873767258382643\n",
      "Music : 1.6518737672583828\n",
      "Book : 1.6272189349112427\n",
      "Productivity : 1.5285996055226825\n",
      "News : 1.4299802761341223\n",
      "Travel : 1.3806706114398422\n",
      "Food & Drink : 1.0601577909270217\n",
      "Weather : 0.7642998027613412\n",
      "Reference : 0.4930966469428008\n",
      "Navigation : 0.4930966469428008\n",
      "Business : 0.4930966469428008\n",
      "Catalogs : 0.22189349112426035\n",
      "Medical : 0.19723865877712032\n"
     ]
    }
   ],
   "source": [
    "display_table(apple_free, 11)"
   ]
  },
  {
   "cell_type": "markdown",
   "metadata": {},
   "source": [
    "### Display Frequency Table (sorted)\n",
    "#### Helper function"
   ]
  },
  {
   "cell_type": "code",
   "execution_count": 39,
   "metadata": {},
   "outputs": [],
   "source": [
    "def display_table_sorted(data, idx):\n",
    "    table = freq_table(data, idx)\n",
    "    table = dict(sorted(table.items(), key=lambda item: item[1], reverse = True))\n",
    "    for key, value in table.items():\n",
    "        print(f'{key} : {value}')"
   ]
  },
  {
   "cell_type": "code",
   "execution_count": 40,
   "metadata": {},
   "outputs": [
    {
     "name": "stdout",
     "output_type": "stream",
     "text": [
      "Games : 55.645956607495066\n",
      "Entertainment : 8.234714003944774\n",
      "Photo & Video : 4.117357001972387\n",
      "Social Networking : 3.5256410256410255\n",
      "Education : 3.2544378698224854\n",
      "Shopping : 2.983234714003945\n",
      "Utilities : 2.687376725838264\n",
      "Lifestyle : 2.3175542406311638\n",
      "Finance : 2.0710059171597632\n",
      "Sports : 1.9477317554240632\n",
      "Health & Fitness : 1.873767258382643\n",
      "Music : 1.6518737672583828\n",
      "Book : 1.6272189349112427\n",
      "Productivity : 1.5285996055226825\n",
      "News : 1.4299802761341223\n",
      "Travel : 1.3806706114398422\n",
      "Food & Drink : 1.0601577909270217\n",
      "Weather : 0.7642998027613412\n",
      "Reference : 0.4930966469428008\n",
      "Navigation : 0.4930966469428008\n",
      "Business : 0.4930966469428008\n",
      "Catalogs : 0.22189349112426035\n",
      "Medical : 0.19723865877712032\n"
     ]
    }
   ],
   "source": [
    "display_table_sorted(apple_free, 11)"
   ]
  },
  {
   "cell_type": "markdown",
   "metadata": {},
   "source": [
    "### Most Common Apps by Genre: Part Three\n",
    "#### Analyze the frequency table you generated for the `prime_genre` column of the App Store dataset\n",
    "* What is the **most common genre**?: **Games with `55.65%`** \n",
    "* What is the **next most common?**: **Entertainment with `8.23%`**\n",
    "* What other patterns do you see?: Photo & Video, Social Networking, Education\n",
    "* What is the general impression?: Most of the apps are designed more for entertainment (games, photo and video, social networking, sports, music).\n",
    "* Can you recommend an app profile for the App Store market based on this frequency table alone?: Based on the frequency table I would recommend **Gamming apps** for App Store.\n",
    "* If there's a large number of apps for a particular genre, does that also imply that apps of that genre generally have a large number of users?: Not necessarily. Further analysis on the **number of users** and **number of downloads** is required.\n",
    "\n",
    "#### Analyze the frequency table you generated for the Category and Genres column of the Google Play dataset.\n",
    "#### Category\n",
    "* What are the **most common genres**?: **FAMILY (`18.91%`)**\n",
    "* What other patterns do you see?: **Games (`9.72%`), TOOLS (`8.46%`)** \n",
    "* Compare the patterns you see for the Google Play market with those you saw for the App Store market: **The patterns are very similar except for the fact that no app stands out as the most popular in Google Play as Games is in App Store**.\n",
    "* Can you recommend an app profile based on what you found so far? **No convincing recommendation can be made! No app stands out as the most popular in Google Play as Games is in App Store**. \n",
    "* Do the frequency tables you generated reveal the most frequent app genres or what genres have the most users?: **There is no decisive winner in this category!**\n",
    "\n",
    "#### Genres\n",
    "* What are the **most common genres**?: **Tools with `8.45%`**\n",
    "* What other patterns do you see?: **Entertainment with `6.07%`, Education, Business with `<6%`** \n",
    "* Compare the patterns you see for the Google Play market with those you saw for the App Store market: **The patterns are very similar except for the fact that no app stands out as the most popular in Google Play as Games is in App Store**.\n",
    "* Can you recommend an app profile based on what you found so far?: **No recommendation! No app stands out as the most popular in Google Play as Games is in App Store** \n",
    "* Do the frequency tables you generated reveal the most frequent app genres or what genres have the most users?: **There is no decisive winner in this category!**\n",
    "\n",
    "### Most Popular Apps by Genre on the App Store\n",
    "Now, we'd like to determine the kind of apps with the most users. For the **Google Play** data set, we can find this information in the **`Installs`** column, but *this information is missing for the App Store* data set. As a workaround, we'll take the **total number of user ratings** as a proxy, which we can find in the **`rating_count_tot`** app."
   ]
  },
  {
   "cell_type": "code",
   "execution_count": 47,
   "metadata": {},
   "outputs": [
    {
     "name": "stdout",
     "output_type": "stream",
     "text": [
      "---------------------------------------\n",
      "App Genre     :    Average User Rating \n",
      "---------------------------------------\n",
      "Productivity : 3.9596774193548385\n",
      "Music : 3.9402985074626864\n",
      "Photo & Video : 3.7934131736526946\n",
      "Health & Fitness : 3.5789473684210527\n",
      "Shopping : 3.5330578512396693\n",
      "Games : 3.5285777580859548\n",
      "Business : 3.5\n",
      "Education : 3.484848484848485\n",
      "Utilities : 3.4541284403669725\n",
      "Travel : 3.375\n",
      "Reference : 3.3\n",
      "Weather : 3.2580645161290325\n",
      "Entertainment : 3.1482035928143715\n",
      "Food & Drink : 3.0348837209302326\n",
      "Social Networking : 2.9965034965034967\n",
      "Sports : 2.9177215189873418\n",
      "News : 2.8793103448275863\n",
      "Medical : 2.875\n",
      "Lifestyle : 2.5904255319148937\n",
      "Finance : 2.2202380952380953\n",
      "Navigation : 2.2\n",
      "Catalogs : 1.8333333333333333\n",
      "Book : 1.5984848484848484\n"
     ]
    }
   ],
   "source": [
    "table_apple_prime_genre = freq_table(apple_free, 11)\n",
    "table = {}\n",
    "for genre in table_apple_prime_genre:\n",
    "    total = 0\n",
    "    len_genre = 0\n",
    "    for app in apple_free:\n",
    "        genre_app = app[11]\n",
    "        if genre_app == genre:\n",
    "            rating = float(app[7])\n",
    "            total += rating\n",
    "            len_genre += 1\n",
    "    avg_user_rating = total / len_genre\n",
    "    table[genre] = avg_user_rating\n",
    "    \n",
    "print('---------------------------------------')\n",
    "print('App Genre     :    Average User Rating ')\n",
    "print('---------------------------------------')\n",
    "table = dict(sorted(table.items(), key=lambda item: item[1], reverse = True))\n",
    "for key, value in table.items():\n",
    "    print(f'{key} : {value}')"
   ]
  },
  {
   "cell_type": "markdown",
   "metadata": {},
   "source": [
    "#### Analyze the results and try to come up with at least one app profile recommendation for the App Store.\n",
    "\n",
    "Top 3 genres in App Store are:\n",
    "\n",
    "    ----------------------------------------------\n",
    "    | GENRES              |  AVERAGE USER RATING |\n",
    "    ----------------------------------------------\n",
    "    | Productivity         |      3.96           |\n",
    "    ----------------------------------------------\n",
    "    | Music                |      3.94           |\n",
    "    ----------------------------------------------\n",
    "    | Photo & Video        |      3.79           |\n",
    "    ----------------------------------------------\n",
    "    \n",
    "These are our **top 3 genres** recommendations for **APP Store**. \n",
    "\n",
    "### Most Popular Apps by Genre on Google Play\n",
    "We'll consider that an app with **100,000+** installs has **100,000** installs, and an app with **1,000,000+** installs has **1,000,000** installs, and so on."
   ]
  },
  {
   "cell_type": "code",
   "execution_count": 52,
   "metadata": {},
   "outputs": [
    {
     "name": "stdout",
     "output_type": "stream",
     "text": [
      "---------------------------------------------\n",
      "App Genre     :    Average Number of Installs\n",
      "---------------------------------------------\n",
      "COMMUNICATION : 38456119.167247385\n",
      "VIDEO_PLAYERS : 24727872.452830188\n",
      "SOCIAL : 23253652.127118643\n",
      "PHOTOGRAPHY : 17840110.40229885\n",
      "PRODUCTIVITY : 16787331.344927534\n",
      "GAME : 15588015.603248259\n",
      "TRAVEL_AND_LOCAL : 13984077.710144928\n",
      "ENTERTAINMENT : 11640705.88235294\n",
      "TOOLS : 10801391.298666667\n",
      "NEWS_AND_MAGAZINES : 9549178.467741935\n",
      "BOOKS_AND_REFERENCE : 8767811.894736841\n",
      "SHOPPING : 7036877.311557789\n",
      "PERSONALIZATION : 5201482.6122448975\n",
      "WEATHER : 5074486.197183099\n",
      "HEALTH_AND_FITNESS : 4188821.9853479853\n",
      "MAPS_AND_NAVIGATION : 4056941.7741935486\n",
      "FAMILY : 3695641.8198090694\n",
      "SPORTS : 3638640.1428571427\n",
      "ART_AND_DESIGN : 1986335.0877192982\n",
      "FOOD_AND_DRINK : 1924897.7363636363\n",
      "EDUCATION : 1833495.145631068\n",
      "BUSINESS : 1712290.1474201474\n",
      "LIFESTYLE : 1437816.2687861272\n",
      "FINANCE : 1387692.475609756\n",
      "HOUSE_AND_HOME : 1331540.5616438356\n",
      "DATING : 854028.8303030303\n",
      "COMICS : 817657.2727272727\n",
      "AUTO_AND_VEHICLES : 647317.8170731707\n",
      "LIBRARIES_AND_DEMO : 638503.734939759\n",
      "PARENTING : 542603.6206896552\n",
      "BEAUTY : 513151.88679245283\n",
      "EVENTS : 253542.22222222222\n",
      "MEDICAL : 120550.61980830671\n"
     ]
    }
   ],
   "source": [
    "table_google_cat = freq_table(google_free, 1)\n",
    "\n",
    "table = {}\n",
    "for category in table_google_cat:\n",
    "    total = 0\n",
    "    len_category = 0\n",
    "    for app in google_free:\n",
    "        category_app = app[1]\n",
    "        if category_app == category:\n",
    "            num_install = float(app[5].replace('+', '').replace(',', ''))\n",
    "            total += num_install\n",
    "            len_category += 1\n",
    "    avg_installs = total / len_category\n",
    "    table[category] = avg_installs\n",
    "    \n",
    "print('---------------------------------------------')\n",
    "print('App Genre     :    Average Number of Installs')\n",
    "print('---------------------------------------------')\n",
    "table = dict(sorted(table.items(), key=lambda item: item[1], reverse = True))\n",
    "for key, value in table.items():\n",
    "    print(f'{key} : {value}')"
   ]
  },
  {
   "cell_type": "markdown",
   "metadata": {},
   "source": [
    "#### Analyze the results, and try to come up with at least one app profile recommendation for Google Play.\n",
    "\n",
    "Top 3 genres in Google Play are:\n",
    "\n",
    "    -----------------------------------------------\n",
    "    | GENRES         | AVERAGE NUMBER OF INSTALLS |\n",
    "    -----------------------------------------------\n",
    "    | COMMUNICATION  |          38,456,119        |\n",
    "    -----------------------------------------------\n",
    "    | VIDEO_PLAYERS  |          24,727,872        |\n",
    "    -----------------------------------------------\n",
    "    | SOCIAL         |          23,253,652        |\n",
    "    -----------------------------------------------\n",
    "    \n",
    "These are our **top 3 genres** recommendations for **Google Play**. \n"
   ]
  },
  {
   "cell_type": "code",
   "execution_count": null,
   "metadata": {},
   "outputs": [],
   "source": []
  }
 ],
 "metadata": {
  "kernelspec": {
   "display_name": "Python 3 (ipykernel)",
   "language": "python",
   "name": "python3"
  },
  "language_info": {
   "codemirror_mode": {
    "name": "ipython",
    "version": 3
   },
   "file_extension": ".py",
   "mimetype": "text/x-python",
   "name": "python",
   "nbconvert_exporter": "python",
   "pygments_lexer": "ipython3",
   "version": "3.9.17"
  }
 },
 "nbformat": 4,
 "nbformat_minor": 2
}

{
 "cells": [
  {
   "cell_type": "markdown",
   "id": "63cd0e2f",
   "metadata": {},
   "source": [
    "### Guided Project: Profitable App Profiles for the App Store and Google Play Markets\n",
    "See [solution notebook](https://github.com/dataquestio/solutions/blob/master/Mission350Solutions.ipynb)\n",
    "\n",
    "For this project, we'll pretend we're working as data analysts for a company that builds Android and iOS mobile apps. We make our apps available on Google Play and in the App Store.\n",
    "\n",
    "We only build apps that are **free to download and install**, and our main source of revenue consists of **in-app ads**. This means that the number of users of our apps determines our revenue for any given app — the more users who see and engage with the ads, the better. **Our goal for this project is to analyze data to help our developers understand what type of apps are likely to attract more users**."
   ]
  },
  {
   "cell_type": "code",
   "execution_count": 44,
   "id": "c15dedd0",
   "metadata": {},
   "outputs": [],
   "source": [
    "import numpy as np\n",
    "import pandas as pd\n",
    "import seaborn as sns\n",
    "import matplotlib.pyplot as plt\n",
    "%matplotlib inline"
   ]
  },
  {
   "cell_type": "markdown",
   "id": "4b0732b8",
   "metadata": {},
   "source": [
    "### Load App Store Dataset"
   ]
  },
  {
   "cell_type": "code",
   "execution_count": 45,
   "id": "1567f737",
   "metadata": {},
   "outputs": [
    {
     "name": "stdout",
     "output_type": "stream",
     "text": [
      "(7197, 16)\n"
     ]
    },
    {
     "data": {
      "text/html": [
       "<div>\n",
       "<style scoped>\n",
       "    .dataframe tbody tr th:only-of-type {\n",
       "        vertical-align: middle;\n",
       "    }\n",
       "\n",
       "    .dataframe tbody tr th {\n",
       "        vertical-align: top;\n",
       "    }\n",
       "\n",
       "    .dataframe thead th {\n",
       "        text-align: right;\n",
       "    }\n",
       "</style>\n",
       "<table border=\"1\" class=\"dataframe\">\n",
       "  <thead>\n",
       "    <tr style=\"text-align: right;\">\n",
       "      <th></th>\n",
       "      <th>id</th>\n",
       "      <th>track_name</th>\n",
       "      <th>size_bytes</th>\n",
       "      <th>currency</th>\n",
       "      <th>price</th>\n",
       "      <th>rating_count_tot</th>\n",
       "      <th>rating_count_ver</th>\n",
       "      <th>user_rating</th>\n",
       "      <th>user_rating_ver</th>\n",
       "      <th>ver</th>\n",
       "      <th>cont_rating</th>\n",
       "      <th>prime_genre</th>\n",
       "      <th>sup_devices.num</th>\n",
       "      <th>ipadSc_urls.num</th>\n",
       "      <th>lang.num</th>\n",
       "      <th>vpp_lic</th>\n",
       "    </tr>\n",
       "  </thead>\n",
       "  <tbody>\n",
       "    <tr>\n",
       "      <th>0</th>\n",
       "      <td>284882215</td>\n",
       "      <td>Facebook</td>\n",
       "      <td>389879808</td>\n",
       "      <td>USD</td>\n",
       "      <td>0.0</td>\n",
       "      <td>2974676</td>\n",
       "      <td>212</td>\n",
       "      <td>3.5</td>\n",
       "      <td>3.5</td>\n",
       "      <td>95.0</td>\n",
       "      <td>4+</td>\n",
       "      <td>Social Networking</td>\n",
       "      <td>37</td>\n",
       "      <td>1</td>\n",
       "      <td>29</td>\n",
       "      <td>1</td>\n",
       "    </tr>\n",
       "    <tr>\n",
       "      <th>1</th>\n",
       "      <td>389801252</td>\n",
       "      <td>Instagram</td>\n",
       "      <td>113954816</td>\n",
       "      <td>USD</td>\n",
       "      <td>0.0</td>\n",
       "      <td>2161558</td>\n",
       "      <td>1289</td>\n",
       "      <td>4.5</td>\n",
       "      <td>4.0</td>\n",
       "      <td>10.23</td>\n",
       "      <td>12+</td>\n",
       "      <td>Photo &amp; Video</td>\n",
       "      <td>37</td>\n",
       "      <td>0</td>\n",
       "      <td>29</td>\n",
       "      <td>1</td>\n",
       "    </tr>\n",
       "    <tr>\n",
       "      <th>2</th>\n",
       "      <td>529479190</td>\n",
       "      <td>Clash of Clans</td>\n",
       "      <td>116476928</td>\n",
       "      <td>USD</td>\n",
       "      <td>0.0</td>\n",
       "      <td>2130805</td>\n",
       "      <td>579</td>\n",
       "      <td>4.5</td>\n",
       "      <td>4.5</td>\n",
       "      <td>9.24.12</td>\n",
       "      <td>9+</td>\n",
       "      <td>Games</td>\n",
       "      <td>38</td>\n",
       "      <td>5</td>\n",
       "      <td>18</td>\n",
       "      <td>1</td>\n",
       "    </tr>\n",
       "    <tr>\n",
       "      <th>3</th>\n",
       "      <td>420009108</td>\n",
       "      <td>Temple Run</td>\n",
       "      <td>65921024</td>\n",
       "      <td>USD</td>\n",
       "      <td>0.0</td>\n",
       "      <td>1724546</td>\n",
       "      <td>3842</td>\n",
       "      <td>4.5</td>\n",
       "      <td>4.0</td>\n",
       "      <td>1.6.2</td>\n",
       "      <td>9+</td>\n",
       "      <td>Games</td>\n",
       "      <td>40</td>\n",
       "      <td>5</td>\n",
       "      <td>1</td>\n",
       "      <td>1</td>\n",
       "    </tr>\n",
       "    <tr>\n",
       "      <th>4</th>\n",
       "      <td>284035177</td>\n",
       "      <td>Pandora - Music &amp; Radio</td>\n",
       "      <td>130242560</td>\n",
       "      <td>USD</td>\n",
       "      <td>0.0</td>\n",
       "      <td>1126879</td>\n",
       "      <td>3594</td>\n",
       "      <td>4.0</td>\n",
       "      <td>4.5</td>\n",
       "      <td>8.4.1</td>\n",
       "      <td>12+</td>\n",
       "      <td>Music</td>\n",
       "      <td>37</td>\n",
       "      <td>4</td>\n",
       "      <td>1</td>\n",
       "      <td>1</td>\n",
       "    </tr>\n",
       "  </tbody>\n",
       "</table>\n",
       "</div>"
      ],
      "text/plain": [
       "          id               track_name  size_bytes currency  price  \\\n",
       "0  284882215                 Facebook   389879808      USD    0.0   \n",
       "1  389801252                Instagram   113954816      USD    0.0   \n",
       "2  529479190           Clash of Clans   116476928      USD    0.0   \n",
       "3  420009108               Temple Run    65921024      USD    0.0   \n",
       "4  284035177  Pandora - Music & Radio   130242560      USD    0.0   \n",
       "\n",
       "   rating_count_tot  rating_count_ver  user_rating  user_rating_ver      ver  \\\n",
       "0           2974676               212          3.5              3.5     95.0   \n",
       "1           2161558              1289          4.5              4.0    10.23   \n",
       "2           2130805               579          4.5              4.5  9.24.12   \n",
       "3           1724546              3842          4.5              4.0    1.6.2   \n",
       "4           1126879              3594          4.0              4.5    8.4.1   \n",
       "\n",
       "  cont_rating        prime_genre  sup_devices.num  ipadSc_urls.num  lang.num  \\\n",
       "0          4+  Social Networking               37                1        29   \n",
       "1         12+      Photo & Video               37                0        29   \n",
       "2          9+              Games               38                5        18   \n",
       "3          9+              Games               40                5         1   \n",
       "4         12+              Music               37                4         1   \n",
       "\n",
       "   vpp_lic  \n",
       "0        1  \n",
       "1        1  \n",
       "2        1  \n",
       "3        1  \n",
       "4        1  "
      ]
     },
     "execution_count": 45,
     "metadata": {},
     "output_type": "execute_result"
    }
   ],
   "source": [
    "data_app = pd.read_csv('./data/AppleStore.csv')\n",
    "print(data_app.shape)\n",
    "data_app.head()"
   ]
  },
  {
   "cell_type": "code",
   "execution_count": 46,
   "id": "81934fc5",
   "metadata": {},
   "outputs": [
    {
     "data": {
      "text/plain": [
       "id                    int64\n",
       "track_name           object\n",
       "size_bytes            int64\n",
       "currency             object\n",
       "price               float64\n",
       "rating_count_tot      int64\n",
       "rating_count_ver      int64\n",
       "user_rating         float64\n",
       "user_rating_ver     float64\n",
       "ver                  object\n",
       "cont_rating          object\n",
       "prime_genre          object\n",
       "sup_devices.num       int64\n",
       "ipadSc_urls.num       int64\n",
       "lang.num              int64\n",
       "vpp_lic               int64\n",
       "dtype: object"
      ]
     },
     "execution_count": 46,
     "metadata": {},
     "output_type": "execute_result"
    }
   ],
   "source": [
    "data_app.dtypes"
   ]
  },
  {
   "cell_type": "code",
   "execution_count": 47,
   "id": "746d9216",
   "metadata": {},
   "outputs": [
    {
     "name": "stdout",
     "output_type": "stream",
     "text": [
      "Columns with missing values:\n",
      "Series([], dtype: int64)\n"
     ]
    }
   ],
   "source": [
    "z = data_app.isnull().sum()\n",
    "print(f'Columns with missing values:\\n{z[z > 0]}')"
   ]
  },
  {
   "cell_type": "code",
   "execution_count": 48,
   "id": "000c63c0",
   "metadata": {},
   "outputs": [],
   "source": [
    "df_app = data_app.copy()"
   ]
  },
  {
   "cell_type": "code",
   "execution_count": 49,
   "id": "84ef4790",
   "metadata": {},
   "outputs": [],
   "source": [
    "df_app.rename(columns = {'sup_devices.num': 'sup_devices_num', \n",
    "                         'ipadSc_urls.num': 'ipadSc_urls_num',\n",
    "                        'lang.num': 'lang_num'}, inplace = True)"
   ]
  },
  {
   "cell_type": "markdown",
   "id": "b0585acc",
   "metadata": {},
   "source": [
    "### Checking for Duplicates"
   ]
  },
  {
   "cell_type": "code",
   "execution_count": 50,
   "id": "d79d5719",
   "metadata": {},
   "outputs": [
    {
     "name": "stdout",
     "output_type": "stream",
     "text": [
      "Number of duplicate rows: 0\n"
     ]
    }
   ],
   "source": [
    "print(f'Number of duplicate rows: {df_app.duplicated().sum()}')"
   ]
  },
  {
   "cell_type": "markdown",
   "id": "27d1b69d",
   "metadata": {},
   "source": [
    "### Removing Non-English Apps\n",
    "If we're going to use the function we've created, we'll lose useful data since many English apps (like `'Docs To Go™ Free Office Suite'` or `'Instachat 😜'`) will be incorrectly labeled as non-English. To minimize the impact of data loss, we'll only remove an app **if its name has more than three characters** with corresponding numbers falling outside the ASCII range. \n",
    "\n",
    "#### Helper function to check for non-Englsh names"
   ]
  },
  {
   "cell_type": "code",
   "execution_count": 51,
   "id": "d1c35002",
   "metadata": {},
   "outputs": [],
   "source": [
    "def check_three_non_ascii(name):\n",
    "    eng_codes = list(range(128))\n",
    "    conditions = [(ord(char) not in eng_codes) for char in name]\n",
    "    if sum(conditions) > 3:\n",
    "        return True\n",
    "    return False"
   ]
  },
  {
   "cell_type": "code",
   "execution_count": 52,
   "id": "9df8fd32",
   "metadata": {},
   "outputs": [
    {
     "data": {
      "text/html": [
       "<div>\n",
       "<style scoped>\n",
       "    .dataframe tbody tr th:only-of-type {\n",
       "        vertical-align: middle;\n",
       "    }\n",
       "\n",
       "    .dataframe tbody tr th {\n",
       "        vertical-align: top;\n",
       "    }\n",
       "\n",
       "    .dataframe thead th {\n",
       "        text-align: right;\n",
       "    }\n",
       "</style>\n",
       "<table border=\"1\" class=\"dataframe\">\n",
       "  <thead>\n",
       "    <tr style=\"text-align: right;\">\n",
       "      <th></th>\n",
       "      <th>id</th>\n",
       "      <th>track_name</th>\n",
       "      <th>size_bytes</th>\n",
       "      <th>currency</th>\n",
       "      <th>price</th>\n",
       "      <th>rating_count_tot</th>\n",
       "      <th>rating_count_ver</th>\n",
       "      <th>user_rating</th>\n",
       "      <th>user_rating_ver</th>\n",
       "      <th>ver</th>\n",
       "      <th>cont_rating</th>\n",
       "      <th>prime_genre</th>\n",
       "      <th>sup_devices_num</th>\n",
       "      <th>ipadSc_urls_num</th>\n",
       "      <th>lang_num</th>\n",
       "      <th>vpp_lic</th>\n",
       "    </tr>\n",
       "  </thead>\n",
       "  <tbody>\n",
       "    <tr>\n",
       "      <th>813</th>\n",
       "      <td>445375097</td>\n",
       "      <td>爱奇艺PPS -《欢乐颂2》电视剧热播</td>\n",
       "      <td>224617472</td>\n",
       "      <td>USD</td>\n",
       "      <td>0.0</td>\n",
       "      <td>14844</td>\n",
       "      <td>0</td>\n",
       "      <td>4.0</td>\n",
       "      <td>0.0</td>\n",
       "      <td>6.3.3</td>\n",
       "      <td>17+</td>\n",
       "      <td>Entertainment</td>\n",
       "      <td>38</td>\n",
       "      <td>5</td>\n",
       "      <td>3</td>\n",
       "      <td>1</td>\n",
       "    </tr>\n",
       "    <tr>\n",
       "      <th>1193</th>\n",
       "      <td>405667771</td>\n",
       "      <td>聚力视频HD-人民的名义,跨界歌王全网热播</td>\n",
       "      <td>90725376</td>\n",
       "      <td>USD</td>\n",
       "      <td>0.0</td>\n",
       "      <td>7446</td>\n",
       "      <td>8</td>\n",
       "      <td>4.0</td>\n",
       "      <td>4.5</td>\n",
       "      <td>5.0.8</td>\n",
       "      <td>12+</td>\n",
       "      <td>Entertainment</td>\n",
       "      <td>24</td>\n",
       "      <td>4</td>\n",
       "      <td>1</td>\n",
       "      <td>1</td>\n",
       "    </tr>\n",
       "    <tr>\n",
       "      <th>1427</th>\n",
       "      <td>336141475</td>\n",
       "      <td>优酷视频</td>\n",
       "      <td>204959744</td>\n",
       "      <td>USD</td>\n",
       "      <td>0.0</td>\n",
       "      <td>4885</td>\n",
       "      <td>0</td>\n",
       "      <td>3.5</td>\n",
       "      <td>0.0</td>\n",
       "      <td>6.7.0</td>\n",
       "      <td>12+</td>\n",
       "      <td>Entertainment</td>\n",
       "      <td>38</td>\n",
       "      <td>0</td>\n",
       "      <td>2</td>\n",
       "      <td>1</td>\n",
       "    </tr>\n",
       "    <tr>\n",
       "      <th>1518</th>\n",
       "      <td>425349261</td>\n",
       "      <td>网易新闻 - 精选好内容，算出你的兴趣</td>\n",
       "      <td>133134336</td>\n",
       "      <td>USD</td>\n",
       "      <td>0.0</td>\n",
       "      <td>4263</td>\n",
       "      <td>6</td>\n",
       "      <td>4.5</td>\n",
       "      <td>1.0</td>\n",
       "      <td>23.2</td>\n",
       "      <td>17+</td>\n",
       "      <td>News</td>\n",
       "      <td>37</td>\n",
       "      <td>4</td>\n",
       "      <td>2</td>\n",
       "      <td>1</td>\n",
       "    </tr>\n",
       "    <tr>\n",
       "      <th>1595</th>\n",
       "      <td>387682726</td>\n",
       "      <td>淘宝 - 随时随地，想淘就淘</td>\n",
       "      <td>309673984</td>\n",
       "      <td>USD</td>\n",
       "      <td>0.0</td>\n",
       "      <td>3801</td>\n",
       "      <td>6</td>\n",
       "      <td>4.0</td>\n",
       "      <td>4.0</td>\n",
       "      <td>6.7.2</td>\n",
       "      <td>4+</td>\n",
       "      <td>Shopping</td>\n",
       "      <td>37</td>\n",
       "      <td>1</td>\n",
       "      <td>1</td>\n",
       "      <td>1</td>\n",
       "    </tr>\n",
       "  </tbody>\n",
       "</table>\n",
       "</div>"
      ],
      "text/plain": [
       "             id             track_name  size_bytes currency  price  \\\n",
       "813   445375097    爱奇艺PPS -《欢乐颂2》电视剧热播   224617472      USD    0.0   \n",
       "1193  405667771  聚力视频HD-人民的名义,跨界歌王全网热播    90725376      USD    0.0   \n",
       "1427  336141475                   优酷视频   204959744      USD    0.0   \n",
       "1518  425349261    网易新闻 - 精选好内容，算出你的兴趣   133134336      USD    0.0   \n",
       "1595  387682726         淘宝 - 随时随地，想淘就淘   309673984      USD    0.0   \n",
       "\n",
       "      rating_count_tot  rating_count_ver  user_rating  user_rating_ver    ver  \\\n",
       "813              14844                 0          4.0              0.0  6.3.3   \n",
       "1193              7446                 8          4.0              4.5  5.0.8   \n",
       "1427              4885                 0          3.5              0.0  6.7.0   \n",
       "1518              4263                 6          4.5              1.0   23.2   \n",
       "1595              3801                 6          4.0              4.0  6.7.2   \n",
       "\n",
       "     cont_rating    prime_genre  sup_devices_num  ipadSc_urls_num  lang_num  \\\n",
       "813          17+  Entertainment               38                5         3   \n",
       "1193         12+  Entertainment               24                4         1   \n",
       "1427         12+  Entertainment               38                0         2   \n",
       "1518         17+           News               37                4         2   \n",
       "1595          4+       Shopping               37                1         1   \n",
       "\n",
       "      vpp_lic  \n",
       "813         1  \n",
       "1193        1  \n",
       "1427        1  \n",
       "1518        1  \n",
       "1595        1  "
      ]
     },
     "execution_count": 52,
     "metadata": {},
     "output_type": "execute_result"
    }
   ],
   "source": [
    "df_app.loc[df_app.track_name.apply(check_three_non_ascii)].head()"
   ]
  },
  {
   "cell_type": "code",
   "execution_count": 53,
   "id": "3dadf5bc",
   "metadata": {},
   "outputs": [
    {
     "name": "stdout",
     "output_type": "stream",
     "text": [
      "(6183, 16)\n"
     ]
    },
    {
     "data": {
      "text/html": [
       "<div>\n",
       "<style scoped>\n",
       "    .dataframe tbody tr th:only-of-type {\n",
       "        vertical-align: middle;\n",
       "    }\n",
       "\n",
       "    .dataframe tbody tr th {\n",
       "        vertical-align: top;\n",
       "    }\n",
       "\n",
       "    .dataframe thead th {\n",
       "        text-align: right;\n",
       "    }\n",
       "</style>\n",
       "<table border=\"1\" class=\"dataframe\">\n",
       "  <thead>\n",
       "    <tr style=\"text-align: right;\">\n",
       "      <th></th>\n",
       "      <th>id</th>\n",
       "      <th>track_name</th>\n",
       "      <th>size_bytes</th>\n",
       "      <th>currency</th>\n",
       "      <th>price</th>\n",
       "      <th>rating_count_tot</th>\n",
       "      <th>rating_count_ver</th>\n",
       "      <th>user_rating</th>\n",
       "      <th>user_rating_ver</th>\n",
       "      <th>ver</th>\n",
       "      <th>cont_rating</th>\n",
       "      <th>prime_genre</th>\n",
       "      <th>sup_devices_num</th>\n",
       "      <th>ipadSc_urls_num</th>\n",
       "      <th>lang_num</th>\n",
       "      <th>vpp_lic</th>\n",
       "    </tr>\n",
       "  </thead>\n",
       "  <tbody>\n",
       "    <tr>\n",
       "      <th>0</th>\n",
       "      <td>284882215</td>\n",
       "      <td>Facebook</td>\n",
       "      <td>389879808</td>\n",
       "      <td>USD</td>\n",
       "      <td>0.0</td>\n",
       "      <td>2974676</td>\n",
       "      <td>212</td>\n",
       "      <td>3.5</td>\n",
       "      <td>3.5</td>\n",
       "      <td>95.0</td>\n",
       "      <td>4+</td>\n",
       "      <td>Social Networking</td>\n",
       "      <td>37</td>\n",
       "      <td>1</td>\n",
       "      <td>29</td>\n",
       "      <td>1</td>\n",
       "    </tr>\n",
       "    <tr>\n",
       "      <th>1</th>\n",
       "      <td>389801252</td>\n",
       "      <td>Instagram</td>\n",
       "      <td>113954816</td>\n",
       "      <td>USD</td>\n",
       "      <td>0.0</td>\n",
       "      <td>2161558</td>\n",
       "      <td>1289</td>\n",
       "      <td>4.5</td>\n",
       "      <td>4.0</td>\n",
       "      <td>10.23</td>\n",
       "      <td>12+</td>\n",
       "      <td>Photo &amp; Video</td>\n",
       "      <td>37</td>\n",
       "      <td>0</td>\n",
       "      <td>29</td>\n",
       "      <td>1</td>\n",
       "    </tr>\n",
       "    <tr>\n",
       "      <th>2</th>\n",
       "      <td>529479190</td>\n",
       "      <td>Clash of Clans</td>\n",
       "      <td>116476928</td>\n",
       "      <td>USD</td>\n",
       "      <td>0.0</td>\n",
       "      <td>2130805</td>\n",
       "      <td>579</td>\n",
       "      <td>4.5</td>\n",
       "      <td>4.5</td>\n",
       "      <td>9.24.12</td>\n",
       "      <td>9+</td>\n",
       "      <td>Games</td>\n",
       "      <td>38</td>\n",
       "      <td>5</td>\n",
       "      <td>18</td>\n",
       "      <td>1</td>\n",
       "    </tr>\n",
       "    <tr>\n",
       "      <th>3</th>\n",
       "      <td>420009108</td>\n",
       "      <td>Temple Run</td>\n",
       "      <td>65921024</td>\n",
       "      <td>USD</td>\n",
       "      <td>0.0</td>\n",
       "      <td>1724546</td>\n",
       "      <td>3842</td>\n",
       "      <td>4.5</td>\n",
       "      <td>4.0</td>\n",
       "      <td>1.6.2</td>\n",
       "      <td>9+</td>\n",
       "      <td>Games</td>\n",
       "      <td>40</td>\n",
       "      <td>5</td>\n",
       "      <td>1</td>\n",
       "      <td>1</td>\n",
       "    </tr>\n",
       "    <tr>\n",
       "      <th>4</th>\n",
       "      <td>284035177</td>\n",
       "      <td>Pandora - Music &amp; Radio</td>\n",
       "      <td>130242560</td>\n",
       "      <td>USD</td>\n",
       "      <td>0.0</td>\n",
       "      <td>1126879</td>\n",
       "      <td>3594</td>\n",
       "      <td>4.0</td>\n",
       "      <td>4.5</td>\n",
       "      <td>8.4.1</td>\n",
       "      <td>12+</td>\n",
       "      <td>Music</td>\n",
       "      <td>37</td>\n",
       "      <td>4</td>\n",
       "      <td>1</td>\n",
       "      <td>1</td>\n",
       "    </tr>\n",
       "  </tbody>\n",
       "</table>\n",
       "</div>"
      ],
      "text/plain": [
       "          id               track_name  size_bytes currency  price  \\\n",
       "0  284882215                 Facebook   389879808      USD    0.0   \n",
       "1  389801252                Instagram   113954816      USD    0.0   \n",
       "2  529479190           Clash of Clans   116476928      USD    0.0   \n",
       "3  420009108               Temple Run    65921024      USD    0.0   \n",
       "4  284035177  Pandora - Music & Radio   130242560      USD    0.0   \n",
       "\n",
       "   rating_count_tot  rating_count_ver  user_rating  user_rating_ver      ver  \\\n",
       "0           2974676               212          3.5              3.5     95.0   \n",
       "1           2161558              1289          4.5              4.0    10.23   \n",
       "2           2130805               579          4.5              4.5  9.24.12   \n",
       "3           1724546              3842          4.5              4.0    1.6.2   \n",
       "4           1126879              3594          4.0              4.5    8.4.1   \n",
       "\n",
       "  cont_rating        prime_genre  sup_devices_num  ipadSc_urls_num  lang_num  \\\n",
       "0          4+  Social Networking               37                1        29   \n",
       "1         12+      Photo & Video               37                0        29   \n",
       "2          9+              Games               38                5        18   \n",
       "3          9+              Games               40                5         1   \n",
       "4         12+              Music               37                4         1   \n",
       "\n",
       "   vpp_lic  \n",
       "0        1  \n",
       "1        1  \n",
       "2        1  \n",
       "3        1  \n",
       "4        1  "
      ]
     },
     "execution_count": 53,
     "metadata": {},
     "output_type": "execute_result"
    }
   ],
   "source": [
    "df = df_app.loc[~df_app.track_name.apply(check_three_non_ascii)]\n",
    "print(df.shape)\n",
    "df.head()"
   ]
  },
  {
   "cell_type": "markdown",
   "id": "b9885f52",
   "metadata": {},
   "source": [
    "### Isolating the Free Apps\n",
    "Our client only builds apps that are free to download and install. Our datasets contain both free and non-free apps; we'll need to isolate only the free apps for our analysis.\n",
    "\n",
    "#### Helper function to clean price"
   ]
  },
  {
   "cell_type": "code",
   "execution_count": 54,
   "id": "3b7b0363",
   "metadata": {},
   "outputs": [],
   "source": [
    "def clean_price(price):\n",
    "    if '$' in price:\n",
    "        price = float(price[1:])\n",
    "    else:\n",
    "        price = float(price)\n",
    "    return price"
   ]
  },
  {
   "cell_type": "markdown",
   "id": "afe00806",
   "metadata": {},
   "source": [
    "**The `price` column in App Store dataset is already clean and in `float` data type**."
   ]
  },
  {
   "cell_type": "code",
   "execution_count": 55,
   "id": "d4983fc6",
   "metadata": {},
   "outputs": [
    {
     "name": "stdout",
     "output_type": "stream",
     "text": [
      "(3222, 16)\n"
     ]
    },
    {
     "data": {
      "text/html": [
       "<div>\n",
       "<style scoped>\n",
       "    .dataframe tbody tr th:only-of-type {\n",
       "        vertical-align: middle;\n",
       "    }\n",
       "\n",
       "    .dataframe tbody tr th {\n",
       "        vertical-align: top;\n",
       "    }\n",
       "\n",
       "    .dataframe thead th {\n",
       "        text-align: right;\n",
       "    }\n",
       "</style>\n",
       "<table border=\"1\" class=\"dataframe\">\n",
       "  <thead>\n",
       "    <tr style=\"text-align: right;\">\n",
       "      <th></th>\n",
       "      <th>id</th>\n",
       "      <th>track_name</th>\n",
       "      <th>size_bytes</th>\n",
       "      <th>currency</th>\n",
       "      <th>price</th>\n",
       "      <th>rating_count_tot</th>\n",
       "      <th>rating_count_ver</th>\n",
       "      <th>user_rating</th>\n",
       "      <th>user_rating_ver</th>\n",
       "      <th>ver</th>\n",
       "      <th>cont_rating</th>\n",
       "      <th>prime_genre</th>\n",
       "      <th>sup_devices_num</th>\n",
       "      <th>ipadSc_urls_num</th>\n",
       "      <th>lang_num</th>\n",
       "      <th>vpp_lic</th>\n",
       "    </tr>\n",
       "  </thead>\n",
       "  <tbody>\n",
       "    <tr>\n",
       "      <th>0</th>\n",
       "      <td>284882215</td>\n",
       "      <td>Facebook</td>\n",
       "      <td>389879808</td>\n",
       "      <td>USD</td>\n",
       "      <td>0.0</td>\n",
       "      <td>2974676</td>\n",
       "      <td>212</td>\n",
       "      <td>3.5</td>\n",
       "      <td>3.5</td>\n",
       "      <td>95.0</td>\n",
       "      <td>4+</td>\n",
       "      <td>Social Networking</td>\n",
       "      <td>37</td>\n",
       "      <td>1</td>\n",
       "      <td>29</td>\n",
       "      <td>1</td>\n",
       "    </tr>\n",
       "    <tr>\n",
       "      <th>1</th>\n",
       "      <td>389801252</td>\n",
       "      <td>Instagram</td>\n",
       "      <td>113954816</td>\n",
       "      <td>USD</td>\n",
       "      <td>0.0</td>\n",
       "      <td>2161558</td>\n",
       "      <td>1289</td>\n",
       "      <td>4.5</td>\n",
       "      <td>4.0</td>\n",
       "      <td>10.23</td>\n",
       "      <td>12+</td>\n",
       "      <td>Photo &amp; Video</td>\n",
       "      <td>37</td>\n",
       "      <td>0</td>\n",
       "      <td>29</td>\n",
       "      <td>1</td>\n",
       "    </tr>\n",
       "    <tr>\n",
       "      <th>2</th>\n",
       "      <td>529479190</td>\n",
       "      <td>Clash of Clans</td>\n",
       "      <td>116476928</td>\n",
       "      <td>USD</td>\n",
       "      <td>0.0</td>\n",
       "      <td>2130805</td>\n",
       "      <td>579</td>\n",
       "      <td>4.5</td>\n",
       "      <td>4.5</td>\n",
       "      <td>9.24.12</td>\n",
       "      <td>9+</td>\n",
       "      <td>Games</td>\n",
       "      <td>38</td>\n",
       "      <td>5</td>\n",
       "      <td>18</td>\n",
       "      <td>1</td>\n",
       "    </tr>\n",
       "    <tr>\n",
       "      <th>3</th>\n",
       "      <td>420009108</td>\n",
       "      <td>Temple Run</td>\n",
       "      <td>65921024</td>\n",
       "      <td>USD</td>\n",
       "      <td>0.0</td>\n",
       "      <td>1724546</td>\n",
       "      <td>3842</td>\n",
       "      <td>4.5</td>\n",
       "      <td>4.0</td>\n",
       "      <td>1.6.2</td>\n",
       "      <td>9+</td>\n",
       "      <td>Games</td>\n",
       "      <td>40</td>\n",
       "      <td>5</td>\n",
       "      <td>1</td>\n",
       "      <td>1</td>\n",
       "    </tr>\n",
       "    <tr>\n",
       "      <th>4</th>\n",
       "      <td>284035177</td>\n",
       "      <td>Pandora - Music &amp; Radio</td>\n",
       "      <td>130242560</td>\n",
       "      <td>USD</td>\n",
       "      <td>0.0</td>\n",
       "      <td>1126879</td>\n",
       "      <td>3594</td>\n",
       "      <td>4.0</td>\n",
       "      <td>4.5</td>\n",
       "      <td>8.4.1</td>\n",
       "      <td>12+</td>\n",
       "      <td>Music</td>\n",
       "      <td>37</td>\n",
       "      <td>4</td>\n",
       "      <td>1</td>\n",
       "      <td>1</td>\n",
       "    </tr>\n",
       "  </tbody>\n",
       "</table>\n",
       "</div>"
      ],
      "text/plain": [
       "          id               track_name  size_bytes currency  price  \\\n",
       "0  284882215                 Facebook   389879808      USD    0.0   \n",
       "1  389801252                Instagram   113954816      USD    0.0   \n",
       "2  529479190           Clash of Clans   116476928      USD    0.0   \n",
       "3  420009108               Temple Run    65921024      USD    0.0   \n",
       "4  284035177  Pandora - Music & Radio   130242560      USD    0.0   \n",
       "\n",
       "   rating_count_tot  rating_count_ver  user_rating  user_rating_ver      ver  \\\n",
       "0           2974676               212          3.5              3.5     95.0   \n",
       "1           2161558              1289          4.5              4.0    10.23   \n",
       "2           2130805               579          4.5              4.5  9.24.12   \n",
       "3           1724546              3842          4.5              4.0    1.6.2   \n",
       "4           1126879              3594          4.0              4.5    8.4.1   \n",
       "\n",
       "  cont_rating        prime_genre  sup_devices_num  ipadSc_urls_num  lang_num  \\\n",
       "0          4+  Social Networking               37                1        29   \n",
       "1         12+      Photo & Video               37                0        29   \n",
       "2          9+              Games               38                5        18   \n",
       "3          9+              Games               40                5         1   \n",
       "4         12+              Music               37                4         1   \n",
       "\n",
       "   vpp_lic  \n",
       "0        1  \n",
       "1        1  \n",
       "2        1  \n",
       "3        1  \n",
       "4        1  "
      ]
     },
     "execution_count": 55,
     "metadata": {},
     "output_type": "execute_result"
    }
   ],
   "source": [
    "df_free_app = df.loc[df.price == 0.0]\n",
    "print(df_free_app.shape)\n",
    "df_free_app.head()"
   ]
  },
  {
   "cell_type": "markdown",
   "id": "dbfb7d32",
   "metadata": {},
   "source": [
    "## Most Common Apps by Genre\n",
    "We'll need to build a frequency table for the **prime_genre** column of the **App Store** dataset."
   ]
  },
  {
   "cell_type": "code",
   "execution_count": 56,
   "id": "36cb92c9",
   "metadata": {},
   "outputs": [
    {
     "data": {
      "text/plain": [
       "prime_genre\n",
       "Games                58.162632\n",
       "Entertainment         7.883302\n",
       "Photo & Video         4.965860\n",
       "Education             3.662322\n",
       "Social Networking     3.289882\n",
       "Shopping              2.607076\n",
       "Utilities             2.513966\n",
       "Sports                2.141527\n",
       "Music                 2.048417\n",
       "Health & Fitness      2.017381\n",
       "Productivity          1.738051\n",
       "Lifestyle             1.582868\n",
       "News                  1.334575\n",
       "Travel                1.241465\n",
       "Finance               1.117318\n",
       "Weather               0.869025\n",
       "Food & Drink          0.806952\n",
       "Reference             0.558659\n",
       "Business              0.527623\n",
       "Book                  0.434513\n",
       "Navigation            0.186220\n",
       "Medical               0.186220\n",
       "Catalogs              0.124146\n",
       "Name: proportion, dtype: float64"
      ]
     },
     "execution_count": 56,
     "metadata": {},
     "output_type": "execute_result"
    }
   ],
   "source": [
    "df_free_app.prime_genre.value_counts(normalize = True, ascending = False) * 100"
   ]
  },
  {
   "cell_type": "code",
   "execution_count": 57,
   "id": "b5271346",
   "metadata": {},
   "outputs": [
    {
     "data": {
      "image/png": "[encoded data removed]",
      "text/plain": [
       "<Figure size 640x480 with 1 Axes>"
      ]
     },
     "metadata": {},
     "output_type": "display_data"
    }
   ],
   "source": [
    "genre = df_free_app.prime_genre.value_counts(normalize = True, ascending = False) * 100\n",
    "genre.head(10).plot(kind = 'barh', color = 'b')\n",
    "plt.title('% Top 10 Most Common Genres (App Store)');"
   ]
  },
  {
   "cell_type": "markdown",
   "id": "c6f781f7",
   "metadata": {},
   "source": [
    "#### Analyze the frequency table generated for the `prime_genre` column of the App Store dataset\n",
    "* What is the **most common genre**?: **Games with `58.16%`** \n",
    "* What is the **next most common?**: **Entertainment with `7.88%`**\n",
    "* What other patterns do you see?: Photo & Video, Social Networking, Education\n",
    "* What is the general impression?: Most of the apps are designed more for entertainment (games, photo and video, social networking, sports, music).\n",
    "* Can you recommend an app profile for the App Store market based on this frequency table alone?: Based on the frequency table I would recommend **Gamming apps** for App Store.\n",
    "* If there's a large number of apps for a particular genre, does that also imply that apps of that genre generally have a large number of users?: Not necessarily. Further analysis on the **number of users** and **number of downloads** is required.\n",
    "\n",
    "### Most Popular Apps by Genre on the App Store\n",
    "Now, we'd like to determine the kind of apps with the most users. For the **Google Play** data set, we can find this information in the **`Installs`** column, but *this information is missing for the App Store* data set. As a workaround, we'll take the **total number of user ratings** as a proxy, which we can find in the **`rating_count_tot`** app.\n",
    "#### Average **`rating_count_tot`** by Genres"
   ]
  },
  {
   "cell_type": "code",
   "execution_count": 58,
   "id": "1f1b5c72",
   "metadata": {},
   "outputs": [
    {
     "data": {
      "text/plain": [
       "prime_genre\n",
       "Navigation           86090.333333\n",
       "Reference            74942.111111\n",
       "Social Networking    71548.349057\n",
       "Music                57326.530303\n",
       "Weather              52279.892857\n",
       "Book                 39758.500000\n",
       "Food & Drink         33333.923077\n",
       "Finance              31467.944444\n",
       "Photo & Video        28441.543750\n",
       "Travel               28243.800000\n",
       "Shopping             26919.690476\n",
       "Health & Fitness     23298.015385\n",
       "Sports               23008.898551\n",
       "Games                22788.669691\n",
       "News                 21248.023256\n",
       "Productivity         21028.410714\n",
       "Utilities            18684.456790\n",
       "Lifestyle            16485.764706\n",
       "Entertainment        14029.830709\n",
       "Business              7491.117647\n",
       "Education             7003.983051\n",
       "Catalogs              4004.000000\n",
       "Medical                612.000000\n",
       "Name: rating_count_tot, dtype: float64"
      ]
     },
     "execution_count": 58,
     "metadata": {},
     "output_type": "execute_result"
    }
   ],
   "source": [
    "df_free_app.groupby('prime_genre').rating_count_tot.mean().sort_values(ascending = False)"
   ]
  },
  {
   "cell_type": "code",
   "execution_count": 59,
   "id": "a5a05d1e",
   "metadata": {},
   "outputs": [
    {
     "data": {
      "image/png": "[encoded data removed]",
      "text/plain": [
       "<Figure size 640x480 with 1 Axes>"
      ]
     },
     "metadata": {},
     "output_type": "display_data"
    }
   ],
   "source": [
    "genre_rcnt = df_free_app.groupby('prime_genre').rating_count_tot.mean().sort_values(ascending = False)\n",
    "genre_rcnt.head(10).plot(kind = 'barh', color = 'b')\n",
    "plt.title('Top 10 Average Rating Count Total by Genres (App Store)');"
   ]
  },
  {
   "cell_type": "markdown",
   "id": "5bdd2779",
   "metadata": {},
   "source": [
    "#### Analyze the results and try to come up with at least one app profile recommendation for the App Store.\n",
    "\n",
    "Top 5 genres in App Store are:\n",
    "\n",
    "    ----------------------------------------------\n",
    "    | GENRES              | AVERAGE RATING COUNT |\n",
    "    ----------------------------------------------\n",
    "    | Navigation          |      86090           |\n",
    "    ----------------------------------------------\n",
    "    | Reference           |      74942           |\n",
    "    ----------------------------------------------\n",
    "    | Social Networking   |      71548           |\n",
    "    ----------------------------------------------\n",
    "    | Music               |      57326           |\n",
    "    ----------------------------------------------\n",
    "    | Weather             |      52279           |\n",
    "    ----------------------------------------------\n",
    "    \n",
    "These are our **top 5 genres** recommendations for **APP Store**."
   ]
  },
  {
   "cell_type": "markdown",
   "id": "da8d66ad",
   "metadata": {},
   "source": [
    "#### Average **`user_rating`** by Genres"
   ]
  },
  {
   "cell_type": "code",
   "execution_count": 60,
   "id": "964cbd5a",
   "metadata": {},
   "outputs": [
    {
     "data": {
      "text/plain": [
       "prime_genre\n",
       "Catalogs             4.125000\n",
       "Games                4.037086\n",
       "Productivity         4.000000\n",
       "Business             3.970588\n",
       "Shopping             3.970238\n",
       "Music                3.946970\n",
       "Photo & Video        3.903125\n",
       "Navigation           3.833333\n",
       "Health & Fitness     3.769231\n",
       "Reference            3.666667\n",
       "Education            3.635593\n",
       "Food & Drink         3.634615\n",
       "Social Networking    3.594340\n",
       "Entertainment        3.539370\n",
       "Utilities            3.530864\n",
       "Travel               3.487500\n",
       "Weather              3.482143\n",
       "Lifestyle            3.411765\n",
       "Finance              3.375000\n",
       "News                 3.244186\n",
       "Book                 3.071429\n",
       "Sports               3.065217\n",
       "Medical              3.000000\n",
       "Name: user_rating, dtype: float64"
      ]
     },
     "execution_count": 60,
     "metadata": {},
     "output_type": "execute_result"
    }
   ],
   "source": [
    "df_free_app.groupby('prime_genre').user_rating.mean().sort_values(ascending = False)"
   ]
  },
  {
   "cell_type": "code",
   "execution_count": 61,
   "id": "c58fa389",
   "metadata": {},
   "outputs": [
    {
     "data": {
      "image/png": "[encoded data removed]",
      "text/plain": [
       "<Figure size 640x480 with 1 Axes>"
      ]
     },
     "metadata": {},
     "output_type": "display_data"
    }
   ],
   "source": [
    "genre_uratg = df_free_app.groupby('prime_genre').user_rating.mean().sort_values(ascending = False)\n",
    "genre_uratg.head(10).plot(kind = 'barh', color = 'b')\n",
    "plt.title('Top 10 Average User Rating by Genres (App Store)');"
   ]
  },
  {
   "cell_type": "markdown",
   "id": "4e5ea4d0",
   "metadata": {},
   "source": [
    "#### Analyze the results and try to come up with at least one app profile recommendation for the App Store.\n",
    "\n",
    "Top 5 genres in App Store are:\n",
    "\n",
    "    ----------------------------------------------\n",
    "    | GENRES              |  AVERAGE USER RATING |\n",
    "    ----------------------------------------------\n",
    "    | Catalogs            |       4.13           |\n",
    "    ----------------------------------------------\n",
    "    | Games               |       4.04           |\n",
    "    ----------------------------------------------\n",
    "    | Productivity        |       4.00           |\n",
    "    ----------------------------------------------\n",
    "    | Business            |       3.97           |\n",
    "    ----------------------------------------------\n",
    "    | Shopping            |       3.97           |\n",
    "    ----------------------------------------------\n",
    "    \n",
    "These are our **top 5 genres** recommendations for **APP Store**.\n",
    "\n",
    "### Load Google Play Dataset"
   ]
  },
  {
   "cell_type": "code",
   "execution_count": 62,
   "id": "df65b3ec",
   "metadata": {},
   "outputs": [
    {
     "name": "stdout",
     "output_type": "stream",
     "text": [
      "(10841, 13)\n"
     ]
    },
    {
     "data": {
      "text/html": [
       "<div>\n",
       "<style scoped>\n",
       "    .dataframe tbody tr th:only-of-type {\n",
       "        vertical-align: middle;\n",
       "    }\n",
       "\n",
       "    .dataframe tbody tr th {\n",
       "        vertical-align: top;\n",
       "    }\n",
       "\n",
       "    .dataframe thead th {\n",
       "        text-align: right;\n",
       "    }\n",
       "</style>\n",
       "<table border=\"1\" class=\"dataframe\">\n",
       "  <thead>\n",
       "    <tr style=\"text-align: right;\">\n",
       "      <th></th>\n",
       "      <th>App</th>\n",
       "      <th>Category</th>\n",
       "      <th>Rating</th>\n",
       "      <th>Reviews</th>\n",
       "      <th>Size</th>\n",
       "      <th>Installs</th>\n",
       "      <th>Type</th>\n",
       "      <th>Price</th>\n",
       "      <th>Content Rating</th>\n",
       "      <th>Genres</th>\n",
       "      <th>Last Updated</th>\n",
       "      <th>Current Ver</th>\n",
       "      <th>Android Ver</th>\n",
       "    </tr>\n",
       "  </thead>\n",
       "  <tbody>\n",
       "    <tr>\n",
       "      <th>0</th>\n",
       "      <td>Photo Editor &amp; Candy Camera &amp; Grid &amp; ScrapBook</td>\n",
       "      <td>ART_AND_DESIGN</td>\n",
       "      <td>4.1</td>\n",
       "      <td>159</td>\n",
       "      <td>19M</td>\n",
       "      <td>10,000+</td>\n",
       "      <td>Free</td>\n",
       "      <td>0</td>\n",
       "      <td>Everyone</td>\n",
       "      <td>Art &amp; Design</td>\n",
       "      <td>January 7, 2018</td>\n",
       "      <td>1.0.0</td>\n",
       "      <td>4.0.3 and up</td>\n",
       "    </tr>\n",
       "    <tr>\n",
       "      <th>1</th>\n",
       "      <td>Coloring book moana</td>\n",
       "      <td>ART_AND_DESIGN</td>\n",
       "      <td>3.9</td>\n",
       "      <td>967</td>\n",
       "      <td>14M</td>\n",
       "      <td>500,000+</td>\n",
       "      <td>Free</td>\n",
       "      <td>0</td>\n",
       "      <td>Everyone</td>\n",
       "      <td>Art &amp; Design;Pretend Play</td>\n",
       "      <td>January 15, 2018</td>\n",
       "      <td>2.0.0</td>\n",
       "      <td>4.0.3 and up</td>\n",
       "    </tr>\n",
       "    <tr>\n",
       "      <th>2</th>\n",
       "      <td>U Launcher Lite – FREE Live Cool Themes, Hide ...</td>\n",
       "      <td>ART_AND_DESIGN</td>\n",
       "      <td>4.7</td>\n",
       "      <td>87510</td>\n",
       "      <td>8.7M</td>\n",
       "      <td>5,000,000+</td>\n",
       "      <td>Free</td>\n",
       "      <td>0</td>\n",
       "      <td>Everyone</td>\n",
       "      <td>Art &amp; Design</td>\n",
       "      <td>August 1, 2018</td>\n",
       "      <td>1.2.4</td>\n",
       "      <td>4.0.3 and up</td>\n",
       "    </tr>\n",
       "    <tr>\n",
       "      <th>3</th>\n",
       "      <td>Sketch - Draw &amp; Paint</td>\n",
       "      <td>ART_AND_DESIGN</td>\n",
       "      <td>4.5</td>\n",
       "      <td>215644</td>\n",
       "      <td>25M</td>\n",
       "      <td>50,000,000+</td>\n",
       "      <td>Free</td>\n",
       "      <td>0</td>\n",
       "      <td>Teen</td>\n",
       "      <td>Art &amp; Design</td>\n",
       "      <td>June 8, 2018</td>\n",
       "      <td>Varies with device</td>\n",
       "      <td>4.2 and up</td>\n",
       "    </tr>\n",
       "    <tr>\n",
       "      <th>4</th>\n",
       "      <td>Pixel Draw - Number Art Coloring Book</td>\n",
       "      <td>ART_AND_DESIGN</td>\n",
       "      <td>4.3</td>\n",
       "      <td>967</td>\n",
       "      <td>2.8M</td>\n",
       "      <td>100,000+</td>\n",
       "      <td>Free</td>\n",
       "      <td>0</td>\n",
       "      <td>Everyone</td>\n",
       "      <td>Art &amp; Design;Creativity</td>\n",
       "      <td>June 20, 2018</td>\n",
       "      <td>1.1</td>\n",
       "      <td>4.4 and up</td>\n",
       "    </tr>\n",
       "  </tbody>\n",
       "</table>\n",
       "</div>"
      ],
      "text/plain": [
       "                                                 App        Category  Rating  \\\n",
       "0     Photo Editor & Candy Camera & Grid & ScrapBook  ART_AND_DESIGN     4.1   \n",
       "1                                Coloring book moana  ART_AND_DESIGN     3.9   \n",
       "2  U Launcher Lite – FREE Live Cool Themes, Hide ...  ART_AND_DESIGN     4.7   \n",
       "3                              Sketch - Draw & Paint  ART_AND_DESIGN     4.5   \n",
       "4              Pixel Draw - Number Art Coloring Book  ART_AND_DESIGN     4.3   \n",
       "\n",
       "  Reviews  Size     Installs  Type Price Content Rating  \\\n",
       "0     159   19M      10,000+  Free     0       Everyone   \n",
       "1     967   14M     500,000+  Free     0       Everyone   \n",
       "2   87510  8.7M   5,000,000+  Free     0       Everyone   \n",
       "3  215644   25M  50,000,000+  Free     0           Teen   \n",
       "4     967  2.8M     100,000+  Free     0       Everyone   \n",
       "\n",
       "                      Genres      Last Updated         Current Ver  \\\n",
       "0               Art & Design   January 7, 2018               1.0.0   \n",
       "1  Art & Design;Pretend Play  January 15, 2018               2.0.0   \n",
       "2               Art & Design    August 1, 2018               1.2.4   \n",
       "3               Art & Design      June 8, 2018  Varies with device   \n",
       "4    Art & Design;Creativity     June 20, 2018                 1.1   \n",
       "\n",
       "    Android Ver  \n",
       "0  4.0.3 and up  \n",
       "1  4.0.3 and up  \n",
       "2  4.0.3 and up  \n",
       "3    4.2 and up  \n",
       "4    4.4 and up  "
      ]
     },
     "execution_count": 62,
     "metadata": {},
     "output_type": "execute_result"
    }
   ],
   "source": [
    "data_goog = pd.read_csv('./data/googleplaystore.csv', parse_dates = ['Last Updated'])\n",
    "print(data_goog.shape)\n",
    "data_goog.head()"
   ]
  },
  {
   "cell_type": "code",
   "execution_count": 63,
   "id": "642535dd",
   "metadata": {},
   "outputs": [
    {
     "data": {
      "text/plain": [
       "App                object\n",
       "Category           object\n",
       "Rating            float64\n",
       "Reviews            object\n",
       "Size               object\n",
       "Installs           object\n",
       "Type               object\n",
       "Price              object\n",
       "Content Rating     object\n",
       "Genres             object\n",
       "Last Updated       object\n",
       "Current Ver        object\n",
       "Android Ver        object\n",
       "dtype: object"
      ]
     },
     "execution_count": 63,
     "metadata": {},
     "output_type": "execute_result"
    }
   ],
   "source": [
    "data_goog.dtypes"
   ]
  },
  {
   "cell_type": "code",
   "execution_count": 64,
   "id": "403e83bd",
   "metadata": {},
   "outputs": [
    {
     "name": "stdout",
     "output_type": "stream",
     "text": [
      "Columns with missing values:\n",
      "Rating            1474\n",
      "Type                 1\n",
      "Content Rating       1\n",
      "Current Ver          8\n",
      "Android Ver          3\n",
      "dtype: int64\n"
     ]
    }
   ],
   "source": [
    "z = data_goog.isnull().sum()\n",
    "print(f'Columns with missing values:\\n{z[z > 0]}')"
   ]
  },
  {
   "cell_type": "markdown",
   "id": "fa63acff",
   "metadata": {},
   "source": [
    "### Drop rows with missing values"
   ]
  },
  {
   "cell_type": "code",
   "execution_count": 65,
   "id": "ad541964",
   "metadata": {},
   "outputs": [
    {
     "data": {
      "text/plain": [
       "(9360, 13)"
      ]
     },
     "execution_count": 65,
     "metadata": {},
     "output_type": "execute_result"
    }
   ],
   "source": [
    "df = data_goog.copy()\n",
    "df.dropna(inplace = True)\n",
    "df.shape"
   ]
  },
  {
   "cell_type": "markdown",
   "id": "34296e1c",
   "metadata": {},
   "source": [
    "### Remove duplicate data"
   ]
  },
  {
   "cell_type": "code",
   "execution_count": 66,
   "id": "ed15a232",
   "metadata": {},
   "outputs": [
    {
     "data": {
      "text/plain": [
       "474"
      ]
     },
     "execution_count": 66,
     "metadata": {},
     "output_type": "execute_result"
    }
   ],
   "source": [
    "df.duplicated().sum()"
   ]
  },
  {
   "cell_type": "code",
   "execution_count": 67,
   "id": "e94fc232",
   "metadata": {},
   "outputs": [
    {
     "name": "stdout",
     "output_type": "stream",
     "text": [
      "Shape Before dropping duplicates = (9360, 13)\n",
      "Shape After dropping duplicates = (8886, 13)\n"
     ]
    }
   ],
   "source": [
    "print(f'Shape Before dropping duplicates = {df.shape}')\n",
    "df.drop_duplicates(keep = 'first', inplace = True)\n",
    "print(f\"Shape After dropping duplicates = {df.shape}\")"
   ]
  },
  {
   "cell_type": "markdown",
   "id": "5722e040",
   "metadata": {},
   "source": [
    "### Checking and Removing Non-English Apps"
   ]
  },
  {
   "cell_type": "code",
   "execution_count": 68,
   "id": "7d56c1ff",
   "metadata": {},
   "outputs": [
    {
     "data": {
      "text/html": [
       "<div>\n",
       "<style scoped>\n",
       "    .dataframe tbody tr th:only-of-type {\n",
       "        vertical-align: middle;\n",
       "    }\n",
       "\n",
       "    .dataframe tbody tr th {\n",
       "        vertical-align: top;\n",
       "    }\n",
       "\n",
       "    .dataframe thead th {\n",
       "        text-align: right;\n",
       "    }\n",
       "</style>\n",
       "<table border=\"1\" class=\"dataframe\">\n",
       "  <thead>\n",
       "    <tr style=\"text-align: right;\">\n",
       "      <th></th>\n",
       "      <th>App</th>\n",
       "      <th>Category</th>\n",
       "      <th>Rating</th>\n",
       "      <th>Reviews</th>\n",
       "      <th>Size</th>\n",
       "      <th>Installs</th>\n",
       "      <th>Type</th>\n",
       "      <th>Price</th>\n",
       "      <th>Content Rating</th>\n",
       "      <th>Genres</th>\n",
       "      <th>Last Updated</th>\n",
       "      <th>Current Ver</th>\n",
       "      <th>Android Ver</th>\n",
       "    </tr>\n",
       "  </thead>\n",
       "  <tbody>\n",
       "    <tr>\n",
       "      <th>710</th>\n",
       "      <td>Flame - درب عقلك يوميا</td>\n",
       "      <td>EDUCATION</td>\n",
       "      <td>4.6</td>\n",
       "      <td>56065</td>\n",
       "      <td>37M</td>\n",
       "      <td>1,000,000+</td>\n",
       "      <td>Free</td>\n",
       "      <td>0</td>\n",
       "      <td>Everyone</td>\n",
       "      <td>Education</td>\n",
       "      <td>July 26, 2018</td>\n",
       "      <td>3.3</td>\n",
       "      <td>4.1 and up</td>\n",
       "    </tr>\n",
       "    <tr>\n",
       "      <th>1592</th>\n",
       "      <td>သိင်္ Astrology - Min Thein Kha BayDin</td>\n",
       "      <td>LIFESTYLE</td>\n",
       "      <td>4.7</td>\n",
       "      <td>2225</td>\n",
       "      <td>15M</td>\n",
       "      <td>100,000+</td>\n",
       "      <td>Free</td>\n",
       "      <td>0</td>\n",
       "      <td>Everyone</td>\n",
       "      <td>Lifestyle</td>\n",
       "      <td>July 26, 2018</td>\n",
       "      <td>4.2.1</td>\n",
       "      <td>4.0.3 and up</td>\n",
       "    </tr>\n",
       "    <tr>\n",
       "      <th>3750</th>\n",
       "      <td>РИА Новости</td>\n",
       "      <td>NEWS_AND_MAGAZINES</td>\n",
       "      <td>4.5</td>\n",
       "      <td>44274</td>\n",
       "      <td>8.0M</td>\n",
       "      <td>1,000,000+</td>\n",
       "      <td>Free</td>\n",
       "      <td>0</td>\n",
       "      <td>Everyone</td>\n",
       "      <td>News &amp; Magazines</td>\n",
       "      <td>August 6, 2018</td>\n",
       "      <td>4.0.6</td>\n",
       "      <td>4.4 and up</td>\n",
       "    </tr>\n",
       "    <tr>\n",
       "      <th>4193</th>\n",
       "      <td>صور حرف H</td>\n",
       "      <td>ART_AND_DESIGN</td>\n",
       "      <td>4.4</td>\n",
       "      <td>13</td>\n",
       "      <td>4.5M</td>\n",
       "      <td>1,000+</td>\n",
       "      <td>Free</td>\n",
       "      <td>0</td>\n",
       "      <td>Everyone</td>\n",
       "      <td>Art &amp; Design</td>\n",
       "      <td>March 27, 2018</td>\n",
       "      <td>2.0</td>\n",
       "      <td>4.0.3 and up</td>\n",
       "    </tr>\n",
       "    <tr>\n",
       "      <th>4324</th>\n",
       "      <td>L.POINT - 엘포인트 [ 포인트, 멤버십, 적립, 사용, 모바일 카드, 쿠폰,...</td>\n",
       "      <td>LIFESTYLE</td>\n",
       "      <td>4.0</td>\n",
       "      <td>45224</td>\n",
       "      <td>49M</td>\n",
       "      <td>5,000,000+</td>\n",
       "      <td>Free</td>\n",
       "      <td>0</td>\n",
       "      <td>Everyone</td>\n",
       "      <td>Lifestyle</td>\n",
       "      <td>August 1, 2018</td>\n",
       "      <td>6.5.1</td>\n",
       "      <td>4.1 and up</td>\n",
       "    </tr>\n",
       "  </tbody>\n",
       "</table>\n",
       "</div>"
      ],
      "text/plain": [
       "                                                    App            Category  \\\n",
       "710                              Flame - درب عقلك يوميا           EDUCATION   \n",
       "1592             သိင်္ Astrology - Min Thein Kha BayDin           LIFESTYLE   \n",
       "3750                                        РИА Новости  NEWS_AND_MAGAZINES   \n",
       "4193                                          صور حرف H      ART_AND_DESIGN   \n",
       "4324  L.POINT - 엘포인트 [ 포인트, 멤버십, 적립, 사용, 모바일 카드, 쿠폰,...           LIFESTYLE   \n",
       "\n",
       "      Rating Reviews  Size    Installs  Type Price Content Rating  \\\n",
       "710      4.6   56065   37M  1,000,000+  Free     0       Everyone   \n",
       "1592     4.7    2225   15M    100,000+  Free     0       Everyone   \n",
       "3750     4.5   44274  8.0M  1,000,000+  Free     0       Everyone   \n",
       "4193     4.4      13  4.5M      1,000+  Free     0       Everyone   \n",
       "4324     4.0   45224   49M  5,000,000+  Free     0       Everyone   \n",
       "\n",
       "                Genres    Last Updated Current Ver   Android Ver  \n",
       "710          Education   July 26, 2018         3.3    4.1 and up  \n",
       "1592         Lifestyle   July 26, 2018       4.2.1  4.0.3 and up  \n",
       "3750  News & Magazines  August 6, 2018       4.0.6    4.4 and up  \n",
       "4193      Art & Design  March 27, 2018         2.0  4.0.3 and up  \n",
       "4324         Lifestyle  August 1, 2018       6.5.1    4.1 and up  "
      ]
     },
     "execution_count": 68,
     "metadata": {},
     "output_type": "execute_result"
    }
   ],
   "source": [
    "df.loc[df.App.apply(check_three_non_ascii)].head()"
   ]
  },
  {
   "cell_type": "code",
   "execution_count": 69,
   "id": "9013764c",
   "metadata": {},
   "outputs": [
    {
     "name": "stdout",
     "output_type": "stream",
     "text": [
      "(8856, 13)\n"
     ]
    },
    {
     "data": {
      "text/html": [
       "<div>\n",
       "<style scoped>\n",
       "    .dataframe tbody tr th:only-of-type {\n",
       "        vertical-align: middle;\n",
       "    }\n",
       "\n",
       "    .dataframe tbody tr th {\n",
       "        vertical-align: top;\n",
       "    }\n",
       "\n",
       "    .dataframe thead th {\n",
       "        text-align: right;\n",
       "    }\n",
       "</style>\n",
       "<table border=\"1\" class=\"dataframe\">\n",
       "  <thead>\n",
       "    <tr style=\"text-align: right;\">\n",
       "      <th></th>\n",
       "      <th>App</th>\n",
       "      <th>Category</th>\n",
       "      <th>Rating</th>\n",
       "      <th>Reviews</th>\n",
       "      <th>Size</th>\n",
       "      <th>Installs</th>\n",
       "      <th>Type</th>\n",
       "      <th>Price</th>\n",
       "      <th>Content Rating</th>\n",
       "      <th>Genres</th>\n",
       "      <th>Last Updated</th>\n",
       "      <th>Current Ver</th>\n",
       "      <th>Android Ver</th>\n",
       "    </tr>\n",
       "  </thead>\n",
       "  <tbody>\n",
       "    <tr>\n",
       "      <th>0</th>\n",
       "      <td>Photo Editor &amp; Candy Camera &amp; Grid &amp; ScrapBook</td>\n",
       "      <td>ART_AND_DESIGN</td>\n",
       "      <td>4.1</td>\n",
       "      <td>159</td>\n",
       "      <td>19M</td>\n",
       "      <td>10,000+</td>\n",
       "      <td>Free</td>\n",
       "      <td>0</td>\n",
       "      <td>Everyone</td>\n",
       "      <td>Art &amp; Design</td>\n",
       "      <td>January 7, 2018</td>\n",
       "      <td>1.0.0</td>\n",
       "      <td>4.0.3 and up</td>\n",
       "    </tr>\n",
       "    <tr>\n",
       "      <th>1</th>\n",
       "      <td>Coloring book moana</td>\n",
       "      <td>ART_AND_DESIGN</td>\n",
       "      <td>3.9</td>\n",
       "      <td>967</td>\n",
       "      <td>14M</td>\n",
       "      <td>500,000+</td>\n",
       "      <td>Free</td>\n",
       "      <td>0</td>\n",
       "      <td>Everyone</td>\n",
       "      <td>Art &amp; Design;Pretend Play</td>\n",
       "      <td>January 15, 2018</td>\n",
       "      <td>2.0.0</td>\n",
       "      <td>4.0.3 and up</td>\n",
       "    </tr>\n",
       "    <tr>\n",
       "      <th>2</th>\n",
       "      <td>U Launcher Lite – FREE Live Cool Themes, Hide ...</td>\n",
       "      <td>ART_AND_DESIGN</td>\n",
       "      <td>4.7</td>\n",
       "      <td>87510</td>\n",
       "      <td>8.7M</td>\n",
       "      <td>5,000,000+</td>\n",
       "      <td>Free</td>\n",
       "      <td>0</td>\n",
       "      <td>Everyone</td>\n",
       "      <td>Art &amp; Design</td>\n",
       "      <td>August 1, 2018</td>\n",
       "      <td>1.2.4</td>\n",
       "      <td>4.0.3 and up</td>\n",
       "    </tr>\n",
       "    <tr>\n",
       "      <th>3</th>\n",
       "      <td>Sketch - Draw &amp; Paint</td>\n",
       "      <td>ART_AND_DESIGN</td>\n",
       "      <td>4.5</td>\n",
       "      <td>215644</td>\n",
       "      <td>25M</td>\n",
       "      <td>50,000,000+</td>\n",
       "      <td>Free</td>\n",
       "      <td>0</td>\n",
       "      <td>Teen</td>\n",
       "      <td>Art &amp; Design</td>\n",
       "      <td>June 8, 2018</td>\n",
       "      <td>Varies with device</td>\n",
       "      <td>4.2 and up</td>\n",
       "    </tr>\n",
       "    <tr>\n",
       "      <th>4</th>\n",
       "      <td>Pixel Draw - Number Art Coloring Book</td>\n",
       "      <td>ART_AND_DESIGN</td>\n",
       "      <td>4.3</td>\n",
       "      <td>967</td>\n",
       "      <td>2.8M</td>\n",
       "      <td>100,000+</td>\n",
       "      <td>Free</td>\n",
       "      <td>0</td>\n",
       "      <td>Everyone</td>\n",
       "      <td>Art &amp; Design;Creativity</td>\n",
       "      <td>June 20, 2018</td>\n",
       "      <td>1.1</td>\n",
       "      <td>4.4 and up</td>\n",
       "    </tr>\n",
       "  </tbody>\n",
       "</table>\n",
       "</div>"
      ],
      "text/plain": [
       "                                                 App        Category  Rating  \\\n",
       "0     Photo Editor & Candy Camera & Grid & ScrapBook  ART_AND_DESIGN     4.1   \n",
       "1                                Coloring book moana  ART_AND_DESIGN     3.9   \n",
       "2  U Launcher Lite – FREE Live Cool Themes, Hide ...  ART_AND_DESIGN     4.7   \n",
       "3                              Sketch - Draw & Paint  ART_AND_DESIGN     4.5   \n",
       "4              Pixel Draw - Number Art Coloring Book  ART_AND_DESIGN     4.3   \n",
       "\n",
       "  Reviews  Size     Installs  Type Price Content Rating  \\\n",
       "0     159   19M      10,000+  Free     0       Everyone   \n",
       "1     967   14M     500,000+  Free     0       Everyone   \n",
       "2   87510  8.7M   5,000,000+  Free     0       Everyone   \n",
       "3  215644   25M  50,000,000+  Free     0           Teen   \n",
       "4     967  2.8M     100,000+  Free     0       Everyone   \n",
       "\n",
       "                      Genres      Last Updated         Current Ver  \\\n",
       "0               Art & Design   January 7, 2018               1.0.0   \n",
       "1  Art & Design;Pretend Play  January 15, 2018               2.0.0   \n",
       "2               Art & Design    August 1, 2018               1.2.4   \n",
       "3               Art & Design      June 8, 2018  Varies with device   \n",
       "4    Art & Design;Creativity     June 20, 2018                 1.1   \n",
       "\n",
       "    Android Ver  \n",
       "0  4.0.3 and up  \n",
       "1  4.0.3 and up  \n",
       "2  4.0.3 and up  \n",
       "3    4.2 and up  \n",
       "4    4.4 and up  "
      ]
     },
     "execution_count": 69,
     "metadata": {},
     "output_type": "execute_result"
    }
   ],
   "source": [
    "df = df.loc[~df.App.apply(check_three_non_ascii)]\n",
    "print(df.shape)\n",
    "df.head()"
   ]
  },
  {
   "cell_type": "markdown",
   "id": "e16efacf",
   "metadata": {},
   "source": [
    "### Isolating the Free Apps\n",
    "Our client only builds apps that are free to download and install. Our datasets contain both free and non-free apps; we'll need to isolate only the free apps for our analysis."
   ]
  },
  {
   "cell_type": "code",
   "execution_count": 70,
   "id": "e1d00564",
   "metadata": {},
   "outputs": [],
   "source": [
    "df['Price'] = df.Price.apply(clean_price)"
   ]
  },
  {
   "cell_type": "code",
   "execution_count": 71,
   "id": "0aede0f6",
   "metadata": {},
   "outputs": [
    {
     "name": "stdout",
     "output_type": "stream",
     "text": [
      "(8247, 13)\n"
     ]
    }
   ],
   "source": [
    "df_free_goog = df.loc[df.Price == 0.0]\n",
    "print(df_free_goog.shape)"
   ]
  },
  {
   "cell_type": "markdown",
   "id": "7f2a45d5",
   "metadata": {},
   "source": [
    "### Most Common Apps by `Genre` (Google Play)"
   ]
  },
  {
   "cell_type": "code",
   "execution_count": 72,
   "id": "78ec603a",
   "metadata": {},
   "outputs": [
    {
     "data": {
      "text/plain": [
       "Genres\n",
       "Tools                          8.112041\n",
       "Entertainment                  5.844550\n",
       "Education                      5.153389\n",
       "Action                         3.940827\n",
       "Productivity                   3.819571\n",
       "                                 ...   \n",
       "Casual;Music & Video           0.012126\n",
       "Health & Fitness;Education     0.012126\n",
       "Music & Audio;Music & Video    0.012126\n",
       "Strategy;Action & Adventure    0.012126\n",
       "Strategy;Creativity            0.012126\n",
       "Name: proportion, Length: 113, dtype: float64"
      ]
     },
     "execution_count": 72,
     "metadata": {},
     "output_type": "execute_result"
    }
   ],
   "source": [
    "df_free_goog.Genres.value_counts(normalize = True, ascending = False) * 100"
   ]
  },
  {
   "cell_type": "code",
   "execution_count": 73,
   "id": "3d342045",
   "metadata": {},
   "outputs": [
    {
     "data": {
      "image/png": "[encoded data removed]",
      "text/plain": [
       "<Figure size 640x480 with 1 Axes>"
      ]
     },
     "metadata": {},
     "output_type": "display_data"
    }
   ],
   "source": [
    "genre_gop = df_free_goog.Genres.value_counts(normalize = True, ascending = False) * 100\n",
    "genre_gop.head(10).plot(kind = 'barh', color = 'b')\n",
    "plt.title('Top 10 Most Common Genres - (Google Play)');"
   ]
  },
  {
   "cell_type": "markdown",
   "id": "6f8c4e31",
   "metadata": {},
   "source": [
    "### Most Common Apps by `Category` (Google Play)"
   ]
  },
  {
   "cell_type": "code",
   "execution_count": 74,
   "id": "af905e2c",
   "metadata": {},
   "outputs": [
    {
     "data": {
      "text/plain": [
       "Category\n",
       "FAMILY                 18.794713\n",
       "GAME                   12.064993\n",
       "TOOLS                   8.124166\n",
       "PRODUCTIVITY            3.819571\n",
       "FINANCE                 3.686189\n",
       "PHOTOGRAPHY             3.492179\n",
       "COMMUNICATION           3.455802\n",
       "LIFESTYLE               3.431551\n",
       "SPORTS                  3.201164\n",
       "BUSINESS                3.152662\n",
       "HEALTH_AND_FITNESS      3.043531\n",
       "PERSONALIZATION         2.946526\n",
       "SOCIAL                  2.934400\n",
       "MEDICAL                 2.885898\n",
       "NEWS_AND_MAGAZINES      2.522129\n",
       "SHOPPING                2.425124\n",
       "TRAVEL_AND_LOCAL        2.388747\n",
       "BOOKS_AND_REFERENCE     2.024979\n",
       "VIDEO_PLAYERS           1.891597\n",
       "DATING                  1.879471\n",
       "EDUCATION               1.503577\n",
       "MAPS_AND_NAVIGATION     1.430823\n",
       "ENTERTAINMENT           1.321693\n",
       "FOOD_AND_DRINK          1.261065\n",
       "AUTO_AND_VEHICLES       0.873045\n",
       "HOUSE_AND_HOME          0.824542\n",
       "WEATHER                 0.824542\n",
       "LIBRARIES_AND_DEMO      0.776040\n",
       "COMICS                  0.691160\n",
       "ART_AND_DESIGN          0.691160\n",
       "PARENTING               0.582030\n",
       "EVENTS                  0.545653\n",
       "BEAUTY                  0.509276\n",
       "Name: proportion, dtype: float64"
      ]
     },
     "execution_count": 74,
     "metadata": {},
     "output_type": "execute_result"
    }
   ],
   "source": [
    "df_free_goog.Category.value_counts(normalize = True, ascending = False) * 100"
   ]
  },
  {
   "cell_type": "code",
   "execution_count": 75,
   "id": "56f030ab",
   "metadata": {},
   "outputs": [
    {
     "data": {
      "image/png": "[encoded data removed]",
      "text/plain": [
       "<Figure size 640x480 with 1 Axes>"
      ]
     },
     "metadata": {},
     "output_type": "display_data"
    }
   ],
   "source": [
    "category = df_free_goog.Category.value_counts(normalize = True, ascending = False) * 100\n",
    "category.head(10).plot(kind = 'barh', color = 'b')\n",
    "plt.title('Top 10 Most Common Category - (Google Play)');"
   ]
  },
  {
   "cell_type": "markdown",
   "id": "c4f89872",
   "metadata": {},
   "source": [
    "#### Analyze the frequency table you generated for the Category and Genres column of the Google Play dataset.\n",
    "#### Category\n",
    "* What are the **most common genres**?: **FAMILY (`18.78%`)**\n",
    "* What other patterns do you see?: **Games (`12.06%`), TOOLS (`8.12%`)** \n",
    "* Compare the patterns you see for the Google Play market with those you saw for the App Store market: **The patterns are very similar except for the fact that no app stands out as the most popular in Google Play as Games is in App Store**.\n",
    "* Can you recommend an app profile based on what you found so far? **No convincing recommendation can be made! No app stands out as the most popular in Google Play as Games is in App Store**. \n",
    "* Do the frequency tables you generated reveal the most frequent app genres or what genres have the most users?: **There is no decisive winner in this category!**\n",
    "\n",
    "#### Genres\n",
    "* What are the **most common genres**?: **Tools with `8.11%`**\n",
    "* What other patterns do you see?: **Entertainment, Education, Business with `<6%`**. \n",
    "* Compare the patterns you see for the Google Play market with those you saw for the App Store market: **The patterns are very similar except for the fact that no app stands out as the most popular in Google Play as Games is in App Store**.\n",
    "* Can you recommend an app profile based on what you found so far?: **No recommendation! No app stands out as the most popular in Google Play as Games is in App Store** \n",
    "* Do the frequency tables you generated reveal the most frequent app genres or what genres have the most users?: **There is no decisive winner in this category!**\n",
    "\n",
    "### Most Popular Apps by Genre on the App Store\n",
    "Now, we'd like to determine the kind of apps with the most users. For the **Google Play** data set, we can find this information in the **`Installs`** column. We'll consider that an app with **100,000+** installs has **100,000** installs, and an app with **1,000,000+** installs has **1,000,000** installs, and so on."
   ]
  },
  {
   "cell_type": "code",
   "execution_count": 76,
   "id": "b2ae1aaf",
   "metadata": {},
   "outputs": [],
   "source": [
    "df_free_goog.loc[:,'Installs'] = df_free_goog.Installs.str.replace('\\D', '', regex = True).astype(float)"
   ]
  },
  {
   "cell_type": "code",
   "execution_count": 82,
   "id": "a59394de",
   "metadata": {},
   "outputs": [
    {
     "data": {
      "text/plain": [
       "dtype('O')"
      ]
     },
     "execution_count": 82,
     "metadata": {},
     "output_type": "execute_result"
    }
   ],
   "source": [
    "df_free_goog['Installs'].dtypes"
   ]
  },
  {
   "cell_type": "markdown",
   "id": "ee326f5e",
   "metadata": {},
   "source": [
    "### Average Installs by `Genres` (Google Play)"
   ]
  },
  {
   "cell_type": "code",
   "execution_count": 78,
   "id": "27c1cf0b",
   "metadata": {},
   "outputs": [
    {
     "data": {
      "text/plain": [
       "Genres\n",
       "Communication                   84739935.192982\n",
       "Adventure;Action & Adventure    82363636.363636\n",
       "Social                          51710063.946281\n",
       "Arcade                          51678938.909574\n",
       "Casual                          49220152.613636\n",
       "                                     ...       \n",
       "Card;Brain Games                       100000.0\n",
       "Puzzle;Education                       100000.0\n",
       "Comics;Creativity                       50000.0\n",
       "Books & Reference;Education              1000.0\n",
       "Simulation;Education                      500.0\n",
       "Name: Installs, Length: 113, dtype: object"
      ]
     },
     "execution_count": 78,
     "metadata": {},
     "output_type": "execute_result"
    }
   ],
   "source": [
    "df_free_goog.groupby('Genres').Installs.mean().sort_values(ascending = False)"
   ]
  },
  {
   "cell_type": "code",
   "execution_count": 79,
   "id": "777fcada",
   "metadata": {},
   "outputs": [
    {
     "data": {
      "image/png": "[encoded data removed]",
      "text/plain": [
       "<Figure size 640x480 with 1 Axes>"
      ]
     },
     "metadata": {},
     "output_type": "display_data"
    }
   ],
   "source": [
    "genre_install = df_free_goog.groupby('Genres').Installs.mean().sort_values(ascending = False)\n",
    "genre_install.head(10).plot(kind = 'barh', color = 'b')\n",
    "plt.title('Top 10 Most Common Genres by Average Installs - (Google Play)');"
   ]
  },
  {
   "cell_type": "markdown",
   "id": "e5ecbac1",
   "metadata": {},
   "source": [
    "#### Analyze the results, and try to come up with at least one app profile recommendation for Google Play.\n",
    "\n",
    "Top 3 Genres in Google Play are: \n",
    "\n",
    "    -------------------------------------------------\n",
    "    | GENRES           | AVERAGE NUMBER OF INSTALLS |\n",
    "    -------------------------------------------------\n",
    "    | Communication    |        84,739,940          |\n",
    "    -------------------------------------------------\n",
    "    | Adventure;Action |                            |\n",
    "    | & Adventure      |        82,363,640          |\n",
    "    -------------------------------------------------\n",
    "    | Social           |        51,710,060          |\n",
    "    -------------------------------------------------\n",
    "    \n",
    "These are our **top 3 Genres** recommendations for **Google Play**. \n"
   ]
  },
  {
   "cell_type": "markdown",
   "id": "2b537d79",
   "metadata": {},
   "source": [
    "### Average Installs by `Category` (Google Play)"
   ]
  },
  {
   "cell_type": "code",
   "execution_count": 80,
   "id": "2cf3817a",
   "metadata": {},
   "outputs": [
    {
     "data": {
      "text/plain": [
       "Category\n",
       "COMMUNICATION          84739935.192982\n",
       "SOCIAL                 51710063.946281\n",
       "VIDEO_PLAYERS          39883501.282051\n",
       "PRODUCTIVITY           39560664.666667\n",
       "PHOTOGRAPHY              33747446.5625\n",
       "TRAVEL_AND_LOCAL       32292778.172589\n",
       "GAME                   31681114.025126\n",
       "NEWS_AND_MAGAZINES     25923505.528846\n",
       "ENTERTAINMENT          22527155.963303\n",
       "TOOLS                  17087309.970149\n",
       "SHOPPING                    12866607.2\n",
       "BOOKS_AND_REFERENCE    11474305.419162\n",
       "PERSONALIZATION         8518865.884774\n",
       "FAMILY                  6453840.490323\n",
       "WEATHER                 6254191.176471\n",
       "MAPS_AND_NAVIGATION     6135986.949153\n",
       "SPORTS                  5785180.549242\n",
       "HEALTH_AND_FITNESS      5420451.075697\n",
       "EDUCATION               4292338.709677\n",
       "BUSINESS                3320213.307692\n",
       "FINANCE                 2533311.842105\n",
       "FOOD_AND_DRINK          2478055.288462\n",
       "ART_AND_DESIGN          2179142.105263\n",
       "LIFESTYLE               1867144.911661\n",
       "HOUSE_AND_HOME          1839441.176471\n",
       "DATING                  1332266.516129\n",
       "COMICS                   982914.035088\n",
       "LIBRARIES_AND_DEMO          954421.875\n",
       "AUTO_AND_VEHICLES        737219.444444\n",
       "PARENTING                647208.541667\n",
       "BEAUTY                   640861.904762\n",
       "EVENTS                   354431.333333\n",
       "MEDICAL                  174391.495798\n",
       "Name: Installs, dtype: object"
      ]
     },
     "execution_count": 80,
     "metadata": {},
     "output_type": "execute_result"
    }
   ],
   "source": [
    "df_free_goog.groupby('Category').Installs.mean().sort_values(ascending = False)"
   ]
  },
  {
   "cell_type": "code",
   "execution_count": 81,
   "id": "866d022c",
   "metadata": {},
   "outputs": [
    {
     "data": {
      "image/png": "[encoded data removed]",
      "text/plain": [
       "<Figure size 640x480 with 1 Axes>"
      ]
     },
     "metadata": {},
     "output_type": "display_data"
    }
   ],
   "source": [
    "cat_install = df_free_goog.groupby('Category').Installs.mean().sort_values(ascending = False)\n",
    "cat_install.head(10).plot(kind = 'barh', color = 'b')\n",
    "plt.title('Top 10 Most Common Categories by Average Installs - (Google Play)');"
   ]
  },
  {
   "cell_type": "markdown",
   "id": "8fbb57c7",
   "metadata": {},
   "source": [
    "#### Analyze the results, and try to come up with at least one app profile recommendation for Google Play.\n",
    "\n",
    "Top 3 Categories in Google Play are: \n",
    "\n",
    "    -----------------------------------------------\n",
    "    | CATEGORY       | AVERAGE NUMBER OF INSTALLS |\n",
    "    -----------------------------------------------\n",
    "    | COMMUNICATION  |          84,739,940        |\n",
    "    -----------------------------------------------\n",
    "    | SOCIAL         |          51,710,060        |\n",
    "    -----------------------------------------------\n",
    "    | VIDEO_PLAYERS  |          39,883,500        |\n",
    "    -----------------------------------------------\n",
    "    \n",
    "These are our **top 3 Categories** recommendations for **Google Play**. \n"
   ]
  },
  {
   "cell_type": "code",
   "execution_count": null,
   "id": "65ab7ea4",
   "metadata": {},
   "outputs": [],
   "source": []
  }
 ],
 "metadata": {
  "kernelspec": {
   "display_name": "Python 3 (ipykernel)",
   "language": "python",
   "name": "python3"
  },
  "language_info": {
   "codemirror_mode": {
    "name": "ipython",
    "version": 3
   },
   "file_extension": ".py",
   "mimetype": "text/x-python",
   "name": "python",
   "nbconvert_exporter": "python",
   "pygments_lexer": "ipython3",
   "version": "3.9.17"
  }
 },
 "nbformat": 4,
 "nbformat_minor": 5
}
